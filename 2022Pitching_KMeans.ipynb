{
 "cells": [
  {
   "cell_type": "markdown",
   "metadata": {},
   "source": [
    "The goal of this notebook is to catagorize pitchers using k-means clustering (from scratch and with Scikit-learn) to see how the winners of the 2022 cy young winners compare to the groups they are assigned to. "
   ]
  },
  {
   "cell_type": "code",
   "execution_count": 351,
   "metadata": {},
   "outputs": [],
   "source": [
    "# Importing libraries \n",
    "import numpy as np\n",
    "import pandas as pd \n",
    "from pybaseball import pitching_stats\n",
    "from sklearn.decomposition import PCA \n",
    "import matplotlib.pyplot as plt \n",
    "from IPython.display import clear_output\n",
    "\n",
    "## 2022 CY Young Winners were Sandy Alcantara and Justin Verlander.\n",
    "\n"
   ]
  },
  {
   "cell_type": "code",
   "execution_count": 352,
   "metadata": {},
   "outputs": [
    {
     "name": "stdout",
     "output_type": "stream",
     "text": [
      "IDfg                     8700\n",
      "Season                   2022\n",
      "Name         Justin Verlander\n",
      "Team                      HOU\n",
      "Age                        39\n",
      "                   ...       \n",
      "Location+                 107\n",
      "Pitching+                 109\n",
      "Stf+ FO                   NaN\n",
      "Loc+ FO                   NaN\n",
      "Pit+ FO                   NaN\n",
      "Name: 0, Length: 393, dtype: object\n",
      "IDfg                   18684\n",
      "Season                  2022\n",
      "Name         Sandy Alcantara\n",
      "Team                     MIA\n",
      "Age                       26\n",
      "                  ...       \n",
      "Location+                105\n",
      "Pitching+                107\n",
      "Stf+ FO                  NaN\n",
      "Loc+ FO                  NaN\n",
      "Pit+ FO                  NaN\n",
      "Name: 4, Length: 393, dtype: object\n"
     ]
    }
   ],
   "source": [
    "# Importing and cleaning data \n",
    "players = pitching_stats(2022)\n",
    "players.sort_index(inplace=True)\n",
    "JF = players.iloc[0]\n",
    "SA = players.iloc[4]\n",
    "\n",
    "print(JF)\n",
    "print(SA)\n",
    "\n",
    "\n"
   ]
  },
  {
   "cell_type": "code",
   "execution_count": 353,
   "metadata": {},
   "outputs": [],
   "source": [
    "features = [\"ERA\", 'WHIP', 'H', 'R', \"HR\", 'BB', 'HBP']\n",
    "data = players[features].copy()"
   ]
  },
  {
   "cell_type": "markdown",
   "metadata": {},
   "source": [
    "1. Scale the data\n",
    "2. Initalize random centroids\n",
    "3. Label each data point based on how far that data point is from each centroid (cluster assignment for each pitcher)\n",
    "4. Update centroids\n",
    "5. Repeat steps 3, 4 until centroids stop changing"
   ]
  },
  {
   "cell_type": "code",
   "execution_count": 354,
   "metadata": {},
   "outputs": [
    {
     "data": {
      "text/plain": [
       "<bound method NDFrame.head of           ERA       WHIP          H          R     HR         BB        HBP\n",
       "0    1.000000   1.000000   1.000000   1.000000   2.44   2.263158   3.647059\n",
       "1    2.060345   2.983051   2.192771   2.090909   6.40   4.157895   3.117647\n",
       "2    2.163793   5.271186   2.084337   2.636364   3.88  10.000000   2.058824\n",
       "3    2.267241   3.440678   4.036145   2.636364   3.88   5.736842   8.411765\n",
       "4    2.370690   3.288136   7.289157   4.272727   3.88   5.578947   5.235294\n",
       "5    2.500000   3.745763   1.867470   1.272727   3.16   4.631579   1.529412\n",
       "6    2.887931   3.745763   5.337349   2.636364   2.44   2.736842   2.588235\n",
       "7    3.043103   2.525424   1.000000   2.227273   4.96   3.684211   2.058824\n",
       "8    3.043103   2.220339   1.542169   2.772727   3.52   5.105263   6.823529\n",
       "9    3.120690   3.593220   4.144578   2.909091   3.16   3.052632   5.235294\n",
       "10   3.767241   6.033898   6.421687   4.818182   2.08   8.263158   6.294118\n",
       "11   3.922414   4.203390   7.072289   4.681818   4.60   3.368421   1.529412\n",
       "12   3.922414   4.050847   2.626506   3.181818   2.44   5.894737   2.058824\n",
       "13   3.948276   7.559322   7.722892   4.681818   2.08   8.578947   3.647059\n",
       "14   3.974138   6.033898   7.289157   5.500000   2.08   5.421053   4.176471\n",
       "15   4.051724   6.796610   5.120482   3.454545   1.00   5.105263   2.058824\n",
       "16   4.051724   4.813559   5.120482   4.272727   6.04   4.315789   7.882353\n",
       "17   4.077586   3.135593   4.036145   5.090909   6.40   5.736842   7.352941\n",
       "18   4.129310   2.830508   3.385542   4.000000   7.12   4.631579   3.117647\n",
       "19   4.491379   2.830508   4.469880   4.272727   6.04   3.526316   6.823529\n",
       "20   4.724138   6.033898   5.337349   4.272727   4.96   6.052632   5.235294\n",
       "21   4.750000   6.338983   6.855422   4.818182   4.96   5.421053   3.647059\n",
       "22   4.879310   2.983051   6.638554   5.363636   4.96   2.263158   5.235294\n",
       "23   4.982759   4.050847   6.855422   6.181818   7.12   3.842105   3.647059\n",
       "24   5.137931   7.254237   8.807229   4.954545   3.52   2.105263   1.000000\n",
       "25   5.189655   5.728814   6.530120   5.636364   5.68   7.315789   1.529412\n",
       "26   5.215517   6.796610   7.722892   5.772727   5.68   5.105263   5.764706\n",
       "27   5.318966   5.728814   5.662651   4.818182   4.96   5.421053   7.352941\n",
       "28   5.474138   4.966102   5.662651   4.954545   5.68   3.368421   4.705882\n",
       "29   5.525862   3.898305   5.120482   6.181818  10.00   5.578947   1.529412\n",
       "30   6.068966   7.864407   9.240964   6.045455   3.88   6.210526   4.176471\n",
       "31   6.068966   6.491525   6.096386   6.045455   9.64   7.473684   4.176471\n",
       "32   6.172414   6.186441   5.445783   5.772727   5.68   6.052632   4.705882\n",
       "33   6.586207   5.576271   6.638554   5.772727   7.48   2.736842   3.117647\n",
       "34   6.663793   6.186441   5.120482   5.227273   8.56   3.684211   4.176471\n",
       "35   6.767241   6.033898   7.289157   7.000000   7.12   3.368421   4.176471\n",
       "36   7.155172   8.627119   9.457831   8.363636   8.92   5.578947   4.176471\n",
       "37   7.698276   6.796610   7.722892   6.318182   5.32   1.000000   5.764706\n",
       "38   7.698276   7.101695   4.578313   6.727273   8.20   7.631579  10.000000\n",
       "39   7.905172   9.542373   9.674699   7.954545   7.48   5.894737   4.705882\n",
       "40   8.189655   9.847458   9.349398   8.227273   4.96   6.052632   8.941176\n",
       "41   8.267241   9.389831   7.397590   7.545455   7.84   9.210526   3.117647\n",
       "42   9.275862   9.237288   8.481928  10.000000   8.92   7.631579   2.588235\n",
       "43   9.534483   8.779661   7.506024   8.500000   6.76   5.263158   5.235294\n",
       "44  10.000000  10.000000  10.000000   9.181818   8.56   4.789474   6.294118>"
      ]
     },
     "execution_count": 354,
     "metadata": {},
     "output_type": "execute_result"
    }
   ],
   "source": [
    "data = ((data - data.min()) / (data.max() - data.min())) * 9 + 1\n",
    "data.head"
   ]
  },
  {
   "cell_type": "code",
   "execution_count": 355,
   "metadata": {},
   "outputs": [
    {
     "data": {
      "text/html": [
       "<div>\n",
       "<style scoped>\n",
       "    .dataframe tbody tr th:only-of-type {\n",
       "        vertical-align: middle;\n",
       "    }\n",
       "\n",
       "    .dataframe tbody tr th {\n",
       "        vertical-align: top;\n",
       "    }\n",
       "\n",
       "    .dataframe thead th {\n",
       "        text-align: right;\n",
       "    }\n",
       "</style>\n",
       "<table border=\"1\" class=\"dataframe\">\n",
       "  <thead>\n",
       "    <tr style=\"text-align: right;\">\n",
       "      <th></th>\n",
       "      <th>ERA</th>\n",
       "      <th>WHIP</th>\n",
       "      <th>H</th>\n",
       "      <th>R</th>\n",
       "      <th>HR</th>\n",
       "      <th>BB</th>\n",
       "      <th>HBP</th>\n",
       "    </tr>\n",
       "  </thead>\n",
       "  <tbody>\n",
       "    <tr>\n",
       "      <th>count</th>\n",
       "      <td>45.000000</td>\n",
       "      <td>45.000000</td>\n",
       "      <td>45.000000</td>\n",
       "      <td>45.000000</td>\n",
       "      <td>45.000000</td>\n",
       "      <td>45.000000</td>\n",
       "      <td>45.000000</td>\n",
       "    </tr>\n",
       "    <tr>\n",
       "      <th>mean</th>\n",
       "      <td>5.112069</td>\n",
       "      <td>5.589831</td>\n",
       "      <td>5.843373</td>\n",
       "      <td>5.112121</td>\n",
       "      <td>5.432000</td>\n",
       "      <td>5.129825</td>\n",
       "      <td>4.458824</td>\n",
       "    </tr>\n",
       "    <tr>\n",
       "      <th>std</th>\n",
       "      <td>2.149708</td>\n",
       "      <td>2.284856</td>\n",
       "      <td>2.398613</td>\n",
       "      <td>2.070907</td>\n",
       "      <td>2.271429</td>\n",
       "      <td>1.964031</td>\n",
       "      <td>2.164063</td>\n",
       "    </tr>\n",
       "    <tr>\n",
       "      <th>min</th>\n",
       "      <td>1.000000</td>\n",
       "      <td>1.000000</td>\n",
       "      <td>1.000000</td>\n",
       "      <td>1.000000</td>\n",
       "      <td>1.000000</td>\n",
       "      <td>1.000000</td>\n",
       "      <td>1.000000</td>\n",
       "    </tr>\n",
       "    <tr>\n",
       "      <th>25%</th>\n",
       "      <td>3.922414</td>\n",
       "      <td>3.745763</td>\n",
       "      <td>4.469880</td>\n",
       "      <td>4.000000</td>\n",
       "      <td>3.880000</td>\n",
       "      <td>3.684211</td>\n",
       "      <td>3.117647</td>\n",
       "    </tr>\n",
       "    <tr>\n",
       "      <th>50%</th>\n",
       "      <td>4.879310</td>\n",
       "      <td>5.728814</td>\n",
       "      <td>6.096386</td>\n",
       "      <td>4.954545</td>\n",
       "      <td>5.320000</td>\n",
       "      <td>5.263158</td>\n",
       "      <td>4.176471</td>\n",
       "    </tr>\n",
       "    <tr>\n",
       "      <th>75%</th>\n",
       "      <td>6.586207</td>\n",
       "      <td>6.796610</td>\n",
       "      <td>7.397590</td>\n",
       "      <td>6.181818</td>\n",
       "      <td>7.120000</td>\n",
       "      <td>6.052632</td>\n",
       "      <td>5.764706</td>\n",
       "    </tr>\n",
       "    <tr>\n",
       "      <th>max</th>\n",
       "      <td>10.000000</td>\n",
       "      <td>10.000000</td>\n",
       "      <td>10.000000</td>\n",
       "      <td>10.000000</td>\n",
       "      <td>10.000000</td>\n",
       "      <td>10.000000</td>\n",
       "      <td>10.000000</td>\n",
       "    </tr>\n",
       "  </tbody>\n",
       "</table>\n",
       "</div>"
      ],
      "text/plain": [
       "             ERA       WHIP          H          R         HR         BB  \\\n",
       "count  45.000000  45.000000  45.000000  45.000000  45.000000  45.000000   \n",
       "mean    5.112069   5.589831   5.843373   5.112121   5.432000   5.129825   \n",
       "std     2.149708   2.284856   2.398613   2.070907   2.271429   1.964031   \n",
       "min     1.000000   1.000000   1.000000   1.000000   1.000000   1.000000   \n",
       "25%     3.922414   3.745763   4.469880   4.000000   3.880000   3.684211   \n",
       "50%     4.879310   5.728814   6.096386   4.954545   5.320000   5.263158   \n",
       "75%     6.586207   6.796610   7.397590   6.181818   7.120000   6.052632   \n",
       "max    10.000000  10.000000  10.000000  10.000000  10.000000  10.000000   \n",
       "\n",
       "             HBP  \n",
       "count  45.000000  \n",
       "mean    4.458824  \n",
       "std     2.164063  \n",
       "min     1.000000  \n",
       "25%     3.117647  \n",
       "50%     4.176471  \n",
       "75%     5.764706  \n",
       "max    10.000000  "
      ]
     },
     "execution_count": 355,
     "metadata": {},
     "output_type": "execute_result"
    }
   ],
   "source": [
    "data.describe()\n"
   ]
  },
  {
   "cell_type": "code",
   "execution_count": 356,
   "metadata": {},
   "outputs": [],
   "source": [
    "\n",
    "# Iterate through each column in our data, then calls x.sample to select a single random value from that column and turns it into a float. \n",
    "# Next it appends these centroids into a list and when the loop is complete it it creates a dataframe out of them with each column being each centroid. \n",
    "def random_centroids(data, k):\n",
    "    centroids = []\n",
    "    for i in range(k):\n",
    "        centroid = data.apply(lambda x: float(x.sample()))\n",
    "        centroids.append(centroid)\n",
    "    return pd.concat(centroids, axis = 1)\n",
    "\n",
    "\n",
    "\n"
   ]
  },
  {
   "cell_type": "code",
   "execution_count": 357,
   "metadata": {},
   "outputs": [
    {
     "name": "stderr",
     "output_type": "stream",
     "text": [
      "/var/folders/zh/rgqvb6zn45j1dm3h1gw654r00000gn/T/ipykernel_7704/839499929.py:6: FutureWarning: Calling float on a single element Series is deprecated and will raise a TypeError in the future. Use float(ser.iloc[0]) instead\n",
      "  centroid = data.apply(lambda x: float(x.sample()))\n"
     ]
    },
    {
     "data": {
      "text/html": [
       "<div>\n",
       "<style scoped>\n",
       "    .dataframe tbody tr th:only-of-type {\n",
       "        vertical-align: middle;\n",
       "    }\n",
       "\n",
       "    .dataframe tbody tr th {\n",
       "        vertical-align: top;\n",
       "    }\n",
       "\n",
       "    .dataframe thead th {\n",
       "        text-align: right;\n",
       "    }\n",
       "</style>\n",
       "<table border=\"1\" class=\"dataframe\">\n",
       "  <thead>\n",
       "    <tr style=\"text-align: right;\">\n",
       "      <th></th>\n",
       "      <th>0</th>\n",
       "      <th>1</th>\n",
       "      <th>2</th>\n",
       "      <th>3</th>\n",
       "    </tr>\n",
       "  </thead>\n",
       "  <tbody>\n",
       "    <tr>\n",
       "      <th>ERA</th>\n",
       "      <td>7.155172</td>\n",
       "      <td>5.189655</td>\n",
       "      <td>8.189655</td>\n",
       "      <td>4.879310</td>\n",
       "    </tr>\n",
       "    <tr>\n",
       "      <th>WHIP</th>\n",
       "      <td>7.254237</td>\n",
       "      <td>5.576271</td>\n",
       "      <td>4.203390</td>\n",
       "      <td>9.542373</td>\n",
       "    </tr>\n",
       "    <tr>\n",
       "      <th>H</th>\n",
       "      <td>5.120482</td>\n",
       "      <td>9.349398</td>\n",
       "      <td>4.036145</td>\n",
       "      <td>4.036145</td>\n",
       "    </tr>\n",
       "    <tr>\n",
       "      <th>R</th>\n",
       "      <td>3.454545</td>\n",
       "      <td>1.000000</td>\n",
       "      <td>1.272727</td>\n",
       "      <td>4.272727</td>\n",
       "    </tr>\n",
       "    <tr>\n",
       "      <th>HR</th>\n",
       "      <td>3.880000</td>\n",
       "      <td>5.680000</td>\n",
       "      <td>1.000000</td>\n",
       "      <td>7.480000</td>\n",
       "    </tr>\n",
       "    <tr>\n",
       "      <th>BB</th>\n",
       "      <td>2.263158</td>\n",
       "      <td>4.631579</td>\n",
       "      <td>1.000000</td>\n",
       "      <td>3.368421</td>\n",
       "    </tr>\n",
       "    <tr>\n",
       "      <th>HBP</th>\n",
       "      <td>2.058824</td>\n",
       "      <td>2.588235</td>\n",
       "      <td>5.235294</td>\n",
       "      <td>4.705882</td>\n",
       "    </tr>\n",
       "  </tbody>\n",
       "</table>\n",
       "</div>"
      ],
      "text/plain": [
       "             0         1         2         3\n",
       "ERA   7.155172  5.189655  8.189655  4.879310\n",
       "WHIP  7.254237  5.576271  4.203390  9.542373\n",
       "H     5.120482  9.349398  4.036145  4.036145\n",
       "R     3.454545  1.000000  1.272727  4.272727\n",
       "HR    3.880000  5.680000  1.000000  7.480000\n",
       "BB    2.263158  4.631579  1.000000  3.368421\n",
       "HBP   2.058824  2.588235  5.235294  4.705882"
      ]
     },
     "execution_count": 357,
     "metadata": {},
     "output_type": "execute_result"
    }
   ],
   "source": [
    "centroids = random_centroids(data, 4)\n",
    "centroids"
   ]
  },
  {
   "cell_type": "code",
   "execution_count": 358,
   "metadata": {},
   "outputs": [],
   "source": [
    "# Label each datapoint according to the cluster centers. \n",
    "# Looks at each player (data point) and finds the eculidian distance between the player and each centroid. \n",
    "# Next it finds the cluster center that is closest to that player. \n",
    "\n",
    "def get_labels(data, centroids):\n",
    "    distances = centroids.apply(lambda x: np.sqrt(((data - x) **2).sum(axis=1)))\n",
    "    return distances.idxmin(axis=1)\n",
    "\n"
   ]
  },
  {
   "cell_type": "code",
   "execution_count": 359,
   "metadata": {},
   "outputs": [
    {
     "data": {
      "text/plain": [
       "3    21\n",
       "0    12\n",
       "1     8\n",
       "2     4\n",
       "Name: count, dtype: int64"
      ]
     },
     "execution_count": 359,
     "metadata": {},
     "output_type": "execute_result"
    }
   ],
   "source": [
    "labels = get_labels(data, centroids)\n",
    "labels.value_counts()"
   ]
  },
  {
   "cell_type": "code",
   "execution_count": 360,
   "metadata": {},
   "outputs": [],
   "source": [
    "# Grouping data by labels. \n",
    "# Finding the geometric mean of each cluster.\n",
    "def new_centroids(data, labels, k):\n",
    "    return data.groupby(labels).apply(lambda x: np.exp(np.log(x)).mean()).T"
   ]
  },
  {
   "cell_type": "code",
   "execution_count": 361,
   "metadata": {},
   "outputs": [],
   "source": [
    "def plot_clusters(data, labels, centroids, iterations): \n",
    "    pca = PCA(n_components=2)\n",
    "    data_2d = pca.fit_transform(data)\n",
    "    centroids_2d = pca.transform(centroids.T)\n",
    "    clear_output(wait=True)\n",
    "    plt.title(f'Iteration{iteration}')\n",
    "    plt.scatter(x=data_2d[:,0], y=data_2d[:,1], c=labels, marker= \"*\")\n",
    "    plt.scatter(x=centroids_2d[:,0], y=centroids_2d[:,1])\n",
    "    plt.show()"
   ]
  },
  {
   "cell_type": "code",
   "execution_count": 362,
   "metadata": {},
   "outputs": [
    {
     "data": {
      "image/png": "[encoded data removed]",
      "text/plain": [
       "<Figure size 640x480 with 1 Axes>"
      ]
     },
     "metadata": {},
     "output_type": "display_data"
    }
   ],
   "source": [
    "max_iterations = 100\n",
    "centroid_count = 3\n",
    "k = 5\n",
    "\n",
    "centroids = random_centroids(data, k)\n",
    "old_centroids = pd.DataFrame()\n",
    "iteration = 1 \n",
    "\n",
    "while iteration < max_iterations and not centroids.equals(old_centroids): \n",
    "    old_centroids = centroids \n",
    "\n",
    "    labels = get_labels(data, centroids)\n",
    "    centroids = new_centroids(data, labels, k)\n",
    "    plot_clusters(data, labels, centroids, iteration)\n",
    "    iteration += 1"
   ]
  },
  {
   "cell_type": "code",
   "execution_count": 363,
   "metadata": {},
   "outputs": [
    {
     "data": {
      "text/html": [
       "<div>\n",
       "<style scoped>\n",
       "    .dataframe tbody tr th:only-of-type {\n",
       "        vertical-align: middle;\n",
       "    }\n",
       "\n",
       "    .dataframe tbody tr th {\n",
       "        vertical-align: top;\n",
       "    }\n",
       "\n",
       "    .dataframe thead th {\n",
       "        text-align: right;\n",
       "    }\n",
       "</style>\n",
       "<table border=\"1\" class=\"dataframe\">\n",
       "  <thead>\n",
       "    <tr style=\"text-align: right;\">\n",
       "      <th></th>\n",
       "      <th>0</th>\n",
       "      <th>1</th>\n",
       "      <th>2</th>\n",
       "      <th>3</th>\n",
       "    </tr>\n",
       "  </thead>\n",
       "  <tbody>\n",
       "    <tr>\n",
       "      <th>ERA</th>\n",
       "      <td>2.163793</td>\n",
       "      <td>7.560345</td>\n",
       "      <td>2.975862</td>\n",
       "      <td>4.458711</td>\n",
       "    </tr>\n",
       "    <tr>\n",
       "      <th>WHIP</th>\n",
       "      <td>5.271186</td>\n",
       "      <td>7.691525</td>\n",
       "      <td>3.349153</td>\n",
       "      <td>5.126673</td>\n",
       "    </tr>\n",
       "    <tr>\n",
       "      <th>H</th>\n",
       "      <td>2.084337</td>\n",
       "      <td>7.578313</td>\n",
       "      <td>2.821687</td>\n",
       "      <td>6.261890</td>\n",
       "    </tr>\n",
       "    <tr>\n",
       "      <th>R</th>\n",
       "      <td>2.636364</td>\n",
       "      <td>7.272727</td>\n",
       "      <td>2.554545</td>\n",
       "      <td>4.882775</td>\n",
       "    </tr>\n",
       "    <tr>\n",
       "      <th>HR</th>\n",
       "      <td>3.880000</td>\n",
       "      <td>7.576000</td>\n",
       "      <td>3.664000</td>\n",
       "      <td>4.751579</td>\n",
       "    </tr>\n",
       "    <tr>\n",
       "      <th>BB</th>\n",
       "      <td>10.000000</td>\n",
       "      <td>5.473684</td>\n",
       "      <td>4.126316</td>\n",
       "      <td>5.130194</td>\n",
       "    </tr>\n",
       "    <tr>\n",
       "      <th>HBP</th>\n",
       "      <td>2.058824</td>\n",
       "      <td>4.811765</td>\n",
       "      <td>3.223529</td>\n",
       "      <td>4.956656</td>\n",
       "    </tr>\n",
       "  </tbody>\n",
       "</table>\n",
       "</div>"
      ],
      "text/plain": [
       "              0         1         2         3\n",
       "ERA    2.163793  7.560345  2.975862  4.458711\n",
       "WHIP   5.271186  7.691525  3.349153  5.126673\n",
       "H      2.084337  7.578313  2.821687  6.261890\n",
       "R      2.636364  7.272727  2.554545  4.882775\n",
       "HR     3.880000  7.576000  3.664000  4.751579\n",
       "BB    10.000000  5.473684  4.126316  5.130194\n",
       "HBP    2.058824  4.811765  3.223529  4.956656"
      ]
     },
     "execution_count": 363,
     "metadata": {},
     "output_type": "execute_result"
    }
   ],
   "source": [
    "centroids"
   ]
  },
  {
   "cell_type": "code",
   "execution_count": 364,
   "metadata": {},
   "outputs": [
    {
     "data": {
      "text/plain": [
       "0     2\n",
       "1     2\n",
       "2     0\n",
       "3     3\n",
       "4     3\n",
       "5     2\n",
       "6     2\n",
       "7     2\n",
       "8     2\n",
       "9     2\n",
       "10    3\n",
       "11    3\n",
       "12    2\n",
       "13    3\n",
       "14    3\n",
       "15    2\n",
       "16    3\n",
       "17    3\n",
       "18    2\n",
       "19    3\n",
       "20    3\n",
       "21    3\n",
       "22    3\n",
       "23    3\n",
       "24    3\n",
       "25    3\n",
       "26    3\n",
       "27    3\n",
       "28    3\n",
       "29    1\n",
       "30    1\n",
       "31    1\n",
       "32    3\n",
       "33    1\n",
       "34    1\n",
       "35    1\n",
       "36    1\n",
       "37    1\n",
       "38    1\n",
       "39    1\n",
       "40    1\n",
       "41    1\n",
       "42    1\n",
       "43    1\n",
       "44    1\n",
       "dtype: int64"
      ]
     },
     "execution_count": 364,
     "metadata": {},
     "output_type": "execute_result"
    }
   ],
   "source": [
    "labels "
   ]
  },
  {
   "cell_type": "markdown",
   "metadata": {},
   "source": [
    "My groups seem to jump around a lot everytime I run the algorithm. A few of things could be happening: My code not be working they way I think  it is, the Cy Young is not based on objective data, or k-means is not a good usecase for this question. "
   ]
  }
 ],
 "metadata": {
  "kernelspec": {
   "display_name": "venv",
   "language": "python",
   "name": "python3"
  },
  "language_info": {
   "codemirror_mode": {
    "name": "ipython",
    "version": 3
   },
   "file_extension": ".py",
   "mimetype": "text/x-python",
   "name": "python",
   "nbconvert_exporter": "python",
   "pygments_lexer": "ipython3",
   "version": "3.11.3"
  }
 },
 "nbformat": 4,
 "nbformat_minor": 2
}
