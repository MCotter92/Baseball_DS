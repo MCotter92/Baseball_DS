{
 "cells": [
  {
   "cell_type": "markdown",
   "metadata": {},
   "source": [
    "The goal of this notebook is to catagorize pitchers  using k-means clustering (from scratch and with Scikit-learn) to see how the winners of the year's cy young winners compare to the groups they are assigned to. "
   ]
  },
  {
   "cell_type": "code",
   "execution_count": 217,
   "metadata": {},
   "outputs": [],
   "source": [
    "# Importing libraries \n",
    "import numpy as np\n",
    "import pandas as pd \n",
    "from pybaseball import pitching_stats\n",
    "from sklearn.decomposition import PCA \n",
    "import matplotlib.pyplot as plt \n",
    "from IPython.display import clear_output\n",
    "\n"
   ]
  },
  {
   "cell_type": "code",
   "execution_count": 218,
   "metadata": {},
   "outputs": [
    {
     "name": "stdout",
     "output_type": "stream",
     "text": [
      "['IDfg', 'Season', 'Name', 'Team', 'Age', 'W', 'L', 'WAR', 'ERA', 'G', 'GS', 'CG', 'ShO', 'SV', 'BS', 'IP', 'TBF', 'H', 'R', 'ER', 'HR', 'BB', 'IBB', 'HBP', 'WP', 'BK', 'SO', 'GB', 'FB', 'LD', 'IFFB', 'Balls', 'Strikes', 'Pitches', 'RS', 'IFH', 'BU', 'BUH', 'K/9', 'BB/9', 'K/BB', 'H/9', 'HR/9', 'AVG', 'WHIP', 'BABIP', 'LOB%', 'FIP', 'GB/FB', 'LD%', 'GB%', 'FB%', 'IFFB%', 'HR/FB', 'IFH%', 'BUH%', 'Starting', 'Start-IP', 'Relieving', 'Relief-IP', 'RAR', 'Dollars', 'tERA', 'xFIP', 'WPA', '-WPA', '+WPA', 'RE24', 'REW', 'pLI', 'inLI', 'gmLI', 'exLI', 'Pulls', 'WPA/LI', 'Clutch', 'FB% 2', 'FBv', 'SL%', 'SLv', 'CT%', 'CTv', 'CB%', 'CBv', 'CH%', 'CHv', 'SF%', 'SFv', 'KN%', 'KNv', 'XX%', 'PO%', 'wFB', 'wSL', 'wCT', 'wCB', 'wCH', 'wSF', 'wKN', 'wFB/C', 'wSL/C', 'wCT/C', 'wCB/C', 'wCH/C', 'wSF/C', 'wKN/C', 'O-Swing%', 'Z-Swing%', 'Swing%', 'O-Contact%', 'Z-Contact%', 'Contact%', 'Zone%', 'F-Strike%', 'SwStr%', 'HLD', 'SD', 'MD', 'ERA-', 'FIP-', 'xFIP-', 'K%', 'BB%', 'SIERA', 'RS/9', 'E-F', 'FA% (sc)', 'FT% (sc)', 'FC% (sc)', 'FS% (sc)', 'FO% (sc)', 'SI% (sc)', 'SL% (sc)', 'CU% (sc)', 'KC% (sc)', 'EP% (sc)', 'CH% (sc)', 'SC% (sc)', 'KN% (sc)', 'UN% (sc)', 'vFA (sc)', 'vFT (sc)', 'vFC (sc)', 'vFS (sc)', 'vFO (sc)', 'vSI (sc)', 'vSL (sc)', 'vCU (sc)', 'vKC (sc)', 'vEP (sc)', 'vCH (sc)', 'vSC (sc)', 'vKN (sc)', 'FA-X (sc)', 'FT-X (sc)', 'FC-X (sc)', 'FS-X (sc)', 'FO-X (sc)', 'SI-X (sc)', 'SL-X (sc)', 'CU-X (sc)', 'KC-X (sc)', 'EP-X (sc)', 'CH-X (sc)', 'SC-X (sc)', 'KN-X (sc)', 'FA-Z (sc)', 'FT-Z (sc)', 'FC-Z (sc)', 'FS-Z (sc)', 'FO-Z (sc)', 'SI-Z (sc)', 'SL-Z (sc)', 'CU-Z (sc)', 'KC-Z (sc)', 'EP-Z (sc)', 'CH-Z (sc)', 'SC-Z (sc)', 'KN-Z (sc)', 'wFA (sc)', 'wFT (sc)', 'wFC (sc)', 'wFS (sc)', 'wFO (sc)', 'wSI (sc)', 'wSL (sc)', 'wCU (sc)', 'wKC (sc)', 'wEP (sc)', 'wCH (sc)', 'wSC (sc)', 'wKN (sc)', 'wFA/C (sc)', 'wFT/C (sc)', 'wFC/C (sc)', 'wFS/C (sc)', 'wFO/C (sc)', 'wSI/C (sc)', 'wSL/C (sc)', 'wCU/C (sc)', 'wKC/C (sc)', 'wEP/C (sc)', 'wCH/C (sc)', 'wSC/C (sc)', 'wKN/C (sc)', 'O-Swing% (sc)', 'Z-Swing% (sc)', 'Swing% (sc)', 'O-Contact% (sc)', 'Z-Contact% (sc)', 'Contact% (sc)', 'Zone% (sc)', 'Pace', 'RA9-WAR', 'BIP-Wins', 'LOB-Wins', 'FDP-Wins', 'Age Rng', 'K-BB%', 'Pull%', 'Cent%', 'Oppo%', 'Soft%', 'Med%', 'Hard%', 'kwERA', 'TTO%', 'CH% (pi)', 'CS% (pi)', 'CU% (pi)', 'FA% (pi)', 'FC% (pi)', 'FS% (pi)', 'KN% (pi)', 'SB% (pi)', 'SI% (pi)', 'SL% (pi)', 'XX% (pi)', 'vCH (pi)', 'vCS (pi)', 'vCU (pi)', 'vFA (pi)', 'vFC (pi)', 'vFS (pi)', 'vKN (pi)', 'vSB (pi)', 'vSI (pi)', 'vSL (pi)', 'vXX (pi)', 'CH-X (pi)', 'CS-X (pi)', 'CU-X (pi)', 'FA-X (pi)', 'FC-X (pi)', 'FS-X (pi)', 'KN-X (pi)', 'SB-X (pi)', 'SI-X (pi)', 'SL-X (pi)', 'XX-X (pi)', 'CH-Z (pi)', 'CS-Z (pi)', 'CU-Z (pi)', 'FA-Z (pi)', 'FC-Z (pi)', 'FS-Z (pi)', 'KN-Z (pi)', 'SB-Z (pi)', 'SI-Z (pi)', 'SL-Z (pi)', 'XX-Z (pi)', 'wCH (pi)', 'wCS (pi)', 'wCU (pi)', 'wFA (pi)', 'wFC (pi)', 'wFS (pi)', 'wKN (pi)', 'wSB (pi)', 'wSI (pi)', 'wSL (pi)', 'wXX (pi)', 'wCH/C (pi)', 'wCS/C (pi)', 'wCU/C (pi)', 'wFA/C (pi)', 'wFC/C (pi)', 'wFS/C (pi)', 'wKN/C (pi)', 'wSB/C (pi)', 'wSI/C (pi)', 'wSL/C (pi)', 'wXX/C (pi)', 'O-Swing% (pi)', 'Z-Swing% (pi)', 'Swing% (pi)', 'O-Contact% (pi)', 'Z-Contact% (pi)', 'Contact% (pi)', 'Zone% (pi)', 'Pace (pi)', 'FRM', 'K/9+', 'BB/9+', 'K/BB+', 'H/9+', 'HR/9+', 'AVG+', 'WHIP+', 'BABIP+', 'LOB%+', 'K%+', 'BB%+', 'LD%+', 'GB%+', 'FB%+', 'HR/FB%+', 'Pull%+', 'Cent%+', 'Oppo%+', 'Soft%+', 'Med%+', 'Hard%+', 'EV', 'LA', 'Barrels', 'Barrel%', 'maxEV', 'HardHit', 'HardHit%', 'Events', 'CStr%', 'CSW%', 'xERA', 'botERA', 'botOvr CH', 'botStf CH', 'botCmd CH', 'botOvr CU', 'botStf CU', 'botCmd CU', 'botOvr FA', 'botStf FA', 'botCmd FA', 'botOvr SI', 'botStf SI', 'botCmd SI', 'botOvr SL', 'botStf SL', 'botCmd SL', 'botOvr KC', 'botStf KC', 'botCmd KC', 'botOvr FC', 'botStf FC', 'botCmd FC', 'botOvr FS', 'botStf FS', 'botCmd FS', 'botOvr', 'botStf', 'botCmd', 'botxRV100', 'Stf+ CH', 'Loc+ CH', 'Pit+ CH', 'Stf+ CU', 'Loc+ CU', 'Pit+ CU', 'Stf+ FA', 'Loc+ FA', 'Pit+ FA', 'Stf+ SI', 'Loc+ SI', 'Pit+ SI', 'Stf+ SL', 'Loc+ SL', 'Pit+ SL', 'Stf+ KC', 'Loc+ KC', 'Pit+ KC', 'Stf+ FC', 'Loc+ FC', 'Pit+ FC', 'Stf+ FS', 'Loc+ FS', 'Pit+ FS', 'Stuff+', 'Location+', 'Pitching+', 'Stf+ FO', 'Loc+ FO', 'Pit+ FO']\n"
     ]
    }
   ],
   "source": [
    "# Importing and cleaning data \n",
    "players = pitching_stats(2022)\n",
    "print(players.columns.to_list())\n"
   ]
  },
  {
   "cell_type": "code",
   "execution_count": 219,
   "metadata": {},
   "outputs": [],
   "source": [
    "features = [\"ERA\", 'WHIP', 'H', 'R', \"HR\", 'BB', 'HBP']\n",
    "data = players[features].copy()"
   ]
  },
  {
   "cell_type": "markdown",
   "metadata": {},
   "source": [
    "1. Scale the data\n",
    "2. Initalize random centroids\n",
    "3. Label each data point based on how far that data point is from each centroid (cluster assignment for each pitcher)\n",
    "4. Update centroids\n",
    "5. Repeat steps 3, 4 until centroids stop changing"
   ]
  },
  {
   "cell_type": "code",
   "execution_count": 220,
   "metadata": {},
   "outputs": [
    {
     "data": {
      "text/plain": [
       "<bound method NDFrame.head of           ERA       WHIP          H          R     HR         BB        HBP\n",
       "22   4.879310   2.983051   6.638554   5.363636   4.96   2.263158   5.235294\n",
       "12   3.922414   4.050847   2.626506   3.181818   2.44   5.894737   2.058824\n",
       "0    1.000000   1.000000   1.000000   1.000000   2.44   2.263158   3.647059\n",
       "4    2.370690   3.288136   7.289157   4.272727   3.88   5.578947   5.235294\n",
       "24   5.137931   7.254237   8.807229   4.954545   3.52   2.105263   1.000000\n",
       "5    2.500000   3.745763   1.867470   1.272727   3.16   4.631579   1.529412\n",
       "6    2.887931   3.745763   5.337349   2.636364   2.44   2.736842   2.588235\n",
       "11   3.922414   4.203390   7.072289   4.681818   4.60   3.368421   1.529412\n",
       "17   4.077586   3.135593   4.036145   5.090909   6.40   5.736842   7.352941\n",
       "10   3.767241   6.033898   6.421687   4.818182   2.08   8.263158   6.294118\n",
       "2    2.163793   5.271186   2.084337   2.636364   3.88  10.000000   2.058824\n",
       "14   3.974138   6.033898   7.289157   5.500000   2.08   5.421053   4.176471\n",
       "8    3.043103   2.220339   1.542169   2.772727   3.52   5.105263   6.823529\n",
       "3    2.267241   3.440678   4.036145   2.636364   3.88   5.736842   8.411765\n",
       "19   4.491379   2.830508   4.469880   4.272727   6.04   3.526316   6.823529\n",
       "9    3.120690   3.593220   4.144578   2.909091   3.16   3.052632   5.235294\n",
       "13   3.948276   7.559322   7.722892   4.681818   2.08   8.578947   3.647059\n",
       "15   4.051724   6.796610   5.120482   3.454545   1.00   5.105263   2.058824\n",
       "7    3.043103   2.525424   1.000000   2.227273   4.96   3.684211   2.058824\n",
       "18   4.129310   2.830508   3.385542   4.000000   7.12   4.631579   3.117647\n",
       "16   4.051724   4.813559   5.120482   4.272727   6.04   4.315789   7.882353\n",
       "29   5.525862   3.898305   5.120482   6.181818  10.00   5.578947   1.529412\n",
       "1    2.060345   2.983051   2.192771   2.090909   6.40   4.157895   3.117647\n",
       "25   5.189655   5.728814   6.530120   5.636364   5.68   7.315789   1.529412\n",
       "21   4.750000   6.338983   6.855422   4.818182   4.96   5.421053   3.647059\n",
       "37   7.698276   6.796610   7.722892   6.318182   5.32   1.000000   5.764706\n",
       "20   4.724138   6.033898   5.337349   4.272727   4.96   6.052632   5.235294\n",
       "30   6.068966   7.864407   9.240964   6.045455   3.88   6.210526   4.176471\n",
       "32   6.172414   6.186441   5.445783   5.772727   5.68   6.052632   4.705882\n",
       "27   5.318966   5.728814   5.662651   4.818182   4.96   5.421053   7.352941\n",
       "23   4.982759   4.050847   6.855422   6.181818   7.12   3.842105   3.647059\n",
       "28   5.474138   4.966102   5.662651   4.954545   5.68   3.368421   4.705882\n",
       "40   8.189655   9.847458   9.349398   8.227273   4.96   6.052632   8.941176\n",
       "33   6.586207   5.576271   6.638554   5.772727   7.48   2.736842   3.117647\n",
       "26   5.215517   6.796610   7.722892   5.772727   5.68   5.105263   5.764706\n",
       "43   9.534483   8.779661   7.506024   8.500000   6.76   5.263158   5.235294\n",
       "31   6.068966   6.491525   6.096386   6.045455   9.64   7.473684   4.176471\n",
       "41   8.267241   9.389831   7.397590   7.545455   7.84   9.210526   3.117647\n",
       "38   7.698276   7.101695   4.578313   6.727273   8.20   7.631579  10.000000\n",
       "39   7.905172   9.542373   9.674699   7.954545   7.48   5.894737   4.705882\n",
       "35   6.767241   6.033898   7.289157   7.000000   7.12   3.368421   4.176471\n",
       "42   9.275862   9.237288   8.481928  10.000000   8.92   7.631579   2.588235\n",
       "44  10.000000  10.000000  10.000000   9.181818   8.56   4.789474   6.294118\n",
       "34   6.663793   6.186441   5.120482   5.227273   8.56   3.684211   4.176471\n",
       "36   7.155172   8.627119   9.457831   8.363636   8.92   5.578947   4.176471>"
      ]
     },
     "execution_count": 220,
     "metadata": {},
     "output_type": "execute_result"
    }
   ],
   "source": [
    "data = ((data - data.min()) / (data.max() - data.min())) * 9 + 1\n",
    "data.head"
   ]
  },
  {
   "cell_type": "code",
   "execution_count": 221,
   "metadata": {},
   "outputs": [
    {
     "data": {
      "text/html": [
       "<div>\n",
       "<style scoped>\n",
       "    .dataframe tbody tr th:only-of-type {\n",
       "        vertical-align: middle;\n",
       "    }\n",
       "\n",
       "    .dataframe tbody tr th {\n",
       "        vertical-align: top;\n",
       "    }\n",
       "\n",
       "    .dataframe thead th {\n",
       "        text-align: right;\n",
       "    }\n",
       "</style>\n",
       "<table border=\"1\" class=\"dataframe\">\n",
       "  <thead>\n",
       "    <tr style=\"text-align: right;\">\n",
       "      <th></th>\n",
       "      <th>ERA</th>\n",
       "      <th>WHIP</th>\n",
       "      <th>H</th>\n",
       "      <th>R</th>\n",
       "      <th>HR</th>\n",
       "      <th>BB</th>\n",
       "      <th>HBP</th>\n",
       "    </tr>\n",
       "  </thead>\n",
       "  <tbody>\n",
       "    <tr>\n",
       "      <th>count</th>\n",
       "      <td>45.000000</td>\n",
       "      <td>45.000000</td>\n",
       "      <td>45.000000</td>\n",
       "      <td>45.000000</td>\n",
       "      <td>45.000000</td>\n",
       "      <td>45.000000</td>\n",
       "      <td>45.000000</td>\n",
       "    </tr>\n",
       "    <tr>\n",
       "      <th>mean</th>\n",
       "      <td>5.112069</td>\n",
       "      <td>5.589831</td>\n",
       "      <td>5.843373</td>\n",
       "      <td>5.112121</td>\n",
       "      <td>5.432000</td>\n",
       "      <td>5.129825</td>\n",
       "      <td>4.458824</td>\n",
       "    </tr>\n",
       "    <tr>\n",
       "      <th>std</th>\n",
       "      <td>2.149708</td>\n",
       "      <td>2.284856</td>\n",
       "      <td>2.398613</td>\n",
       "      <td>2.070907</td>\n",
       "      <td>2.271429</td>\n",
       "      <td>1.964031</td>\n",
       "      <td>2.164063</td>\n",
       "    </tr>\n",
       "    <tr>\n",
       "      <th>min</th>\n",
       "      <td>1.000000</td>\n",
       "      <td>1.000000</td>\n",
       "      <td>1.000000</td>\n",
       "      <td>1.000000</td>\n",
       "      <td>1.000000</td>\n",
       "      <td>1.000000</td>\n",
       "      <td>1.000000</td>\n",
       "    </tr>\n",
       "    <tr>\n",
       "      <th>25%</th>\n",
       "      <td>3.922414</td>\n",
       "      <td>3.745763</td>\n",
       "      <td>4.469880</td>\n",
       "      <td>4.000000</td>\n",
       "      <td>3.880000</td>\n",
       "      <td>3.684211</td>\n",
       "      <td>3.117647</td>\n",
       "    </tr>\n",
       "    <tr>\n",
       "      <th>50%</th>\n",
       "      <td>4.879310</td>\n",
       "      <td>5.728814</td>\n",
       "      <td>6.096386</td>\n",
       "      <td>4.954545</td>\n",
       "      <td>5.320000</td>\n",
       "      <td>5.263158</td>\n",
       "      <td>4.176471</td>\n",
       "    </tr>\n",
       "    <tr>\n",
       "      <th>75%</th>\n",
       "      <td>6.586207</td>\n",
       "      <td>6.796610</td>\n",
       "      <td>7.397590</td>\n",
       "      <td>6.181818</td>\n",
       "      <td>7.120000</td>\n",
       "      <td>6.052632</td>\n",
       "      <td>5.764706</td>\n",
       "    </tr>\n",
       "    <tr>\n",
       "      <th>max</th>\n",
       "      <td>10.000000</td>\n",
       "      <td>10.000000</td>\n",
       "      <td>10.000000</td>\n",
       "      <td>10.000000</td>\n",
       "      <td>10.000000</td>\n",
       "      <td>10.000000</td>\n",
       "      <td>10.000000</td>\n",
       "    </tr>\n",
       "  </tbody>\n",
       "</table>\n",
       "</div>"
      ],
      "text/plain": [
       "             ERA       WHIP          H          R         HR         BB  \\\n",
       "count  45.000000  45.000000  45.000000  45.000000  45.000000  45.000000   \n",
       "mean    5.112069   5.589831   5.843373   5.112121   5.432000   5.129825   \n",
       "std     2.149708   2.284856   2.398613   2.070907   2.271429   1.964031   \n",
       "min     1.000000   1.000000   1.000000   1.000000   1.000000   1.000000   \n",
       "25%     3.922414   3.745763   4.469880   4.000000   3.880000   3.684211   \n",
       "50%     4.879310   5.728814   6.096386   4.954545   5.320000   5.263158   \n",
       "75%     6.586207   6.796610   7.397590   6.181818   7.120000   6.052632   \n",
       "max    10.000000  10.000000  10.000000  10.000000  10.000000  10.000000   \n",
       "\n",
       "             HBP  \n",
       "count  45.000000  \n",
       "mean    4.458824  \n",
       "std     2.164063  \n",
       "min     1.000000  \n",
       "25%     3.117647  \n",
       "50%     4.176471  \n",
       "75%     5.764706  \n",
       "max    10.000000  "
      ]
     },
     "execution_count": 221,
     "metadata": {},
     "output_type": "execute_result"
    }
   ],
   "source": [
    "data.describe()\n"
   ]
  },
  {
   "cell_type": "code",
   "execution_count": 222,
   "metadata": {},
   "outputs": [],
   "source": [
    "\n",
    "# Iterate through each column in out data, then calls x.sample to select a single random value from that column and turns it into a float. \n",
    "# Next it appends these centroins into a list and when the loop is complete it it creates a dataframe out of them with each column being each centroid. \n",
    "def random_centroids(data, k):\n",
    "    centroids = []\n",
    "    for i in range(k):\n",
    "        centroid = data.apply(lambda x: float(x.sample()))\n",
    "        centroids.append(centroid)\n",
    "    return pd.concat(centroids, axis = 1)\n",
    "\n",
    "\n",
    "\n"
   ]
  },
  {
   "cell_type": "code",
   "execution_count": 223,
   "metadata": {},
   "outputs": [
    {
     "name": "stderr",
     "output_type": "stream",
     "text": [
      "/var/folders/zh/rgqvb6zn45j1dm3h1gw654r00000gn/T/ipykernel_90016/834628581.py:6: FutureWarning: Calling float on a single element Series is deprecated and will raise a TypeError in the future. Use float(ser.iloc[0]) instead\n",
      "  centroid = data.apply(lambda x: float(x.sample()))\n"
     ]
    },
    {
     "data": {
      "text/html": [
       "<div>\n",
       "<style scoped>\n",
       "    .dataframe tbody tr th:only-of-type {\n",
       "        vertical-align: middle;\n",
       "    }\n",
       "\n",
       "    .dataframe tbody tr th {\n",
       "        vertical-align: top;\n",
       "    }\n",
       "\n",
       "    .dataframe thead th {\n",
       "        text-align: right;\n",
       "    }\n",
       "</style>\n",
       "<table border=\"1\" class=\"dataframe\">\n",
       "  <thead>\n",
       "    <tr style=\"text-align: right;\">\n",
       "      <th></th>\n",
       "      <th>0</th>\n",
       "      <th>1</th>\n",
       "      <th>2</th>\n",
       "      <th>3</th>\n",
       "      <th>4</th>\n",
       "    </tr>\n",
       "  </thead>\n",
       "  <tbody>\n",
       "    <tr>\n",
       "      <th>ERA</th>\n",
       "      <td>6.767241</td>\n",
       "      <td>2.060345</td>\n",
       "      <td>9.534483</td>\n",
       "      <td>6.663793</td>\n",
       "      <td>4.077586</td>\n",
       "    </tr>\n",
       "    <tr>\n",
       "      <th>WHIP</th>\n",
       "      <td>6.491525</td>\n",
       "      <td>2.830508</td>\n",
       "      <td>4.050847</td>\n",
       "      <td>6.033898</td>\n",
       "      <td>2.525424</td>\n",
       "    </tr>\n",
       "    <tr>\n",
       "      <th>H</th>\n",
       "      <td>6.638554</td>\n",
       "      <td>1.542169</td>\n",
       "      <td>9.349398</td>\n",
       "      <td>7.289157</td>\n",
       "      <td>6.855422</td>\n",
       "    </tr>\n",
       "    <tr>\n",
       "      <th>R</th>\n",
       "      <td>4.272727</td>\n",
       "      <td>7.954545</td>\n",
       "      <td>10.000000</td>\n",
       "      <td>5.500000</td>\n",
       "      <td>2.636364</td>\n",
       "    </tr>\n",
       "    <tr>\n",
       "      <th>HR</th>\n",
       "      <td>3.520000</td>\n",
       "      <td>5.680000</td>\n",
       "      <td>7.480000</td>\n",
       "      <td>3.520000</td>\n",
       "      <td>4.600000</td>\n",
       "    </tr>\n",
       "    <tr>\n",
       "      <th>BB</th>\n",
       "      <td>3.526316</td>\n",
       "      <td>3.368421</td>\n",
       "      <td>4.631579</td>\n",
       "      <td>6.052632</td>\n",
       "      <td>7.631579</td>\n",
       "    </tr>\n",
       "    <tr>\n",
       "      <th>HBP</th>\n",
       "      <td>1.529412</td>\n",
       "      <td>3.647059</td>\n",
       "      <td>3.117647</td>\n",
       "      <td>4.176471</td>\n",
       "      <td>4.176471</td>\n",
       "    </tr>\n",
       "  </tbody>\n",
       "</table>\n",
       "</div>"
      ],
      "text/plain": [
       "             0         1          2         3         4\n",
       "ERA   6.767241  2.060345   9.534483  6.663793  4.077586\n",
       "WHIP  6.491525  2.830508   4.050847  6.033898  2.525424\n",
       "H     6.638554  1.542169   9.349398  7.289157  6.855422\n",
       "R     4.272727  7.954545  10.000000  5.500000  2.636364\n",
       "HR    3.520000  5.680000   7.480000  3.520000  4.600000\n",
       "BB    3.526316  3.368421   4.631579  6.052632  7.631579\n",
       "HBP   1.529412  3.647059   3.117647  4.176471  4.176471"
      ]
     },
     "execution_count": 223,
     "metadata": {},
     "output_type": "execute_result"
    }
   ],
   "source": [
    "centroids = random_centroids(data, 5)\n",
    "centroids"
   ]
  },
  {
   "cell_type": "code",
   "execution_count": 224,
   "metadata": {},
   "outputs": [],
   "source": [
    "# Label each datapoint according to the cluster centers. \n",
    "# Looks at each player (data point) and finds the eculidian distance between the player and each centroid. \n",
    "# Next it finds the cluster center that is closest to that player. \n",
    "\n",
    "def get_labels(data, centroids):\n",
    "    distances = centroids.apply(lambda x: np.sqrt(((data - x) **2).sum(axis=1)))\n",
    "    return distances.idxmin(axis=1)\n",
    "\n"
   ]
  },
  {
   "cell_type": "code",
   "execution_count": 225,
   "metadata": {},
   "outputs": [
    {
     "data": {
      "text/plain": [
       "3    20\n",
       "4     9\n",
       "0     6\n",
       "1     5\n",
       "2     5\n",
       "Name: count, dtype: int64"
      ]
     },
     "execution_count": 225,
     "metadata": {},
     "output_type": "execute_result"
    }
   ],
   "source": [
    "labels = get_labels(data, centroids)\n",
    "labels.value_counts()"
   ]
  },
  {
   "cell_type": "code",
   "execution_count": 226,
   "metadata": {},
   "outputs": [],
   "source": [
    "# Grouping data by labels. \n",
    "# Finding the geometric mean of each cluster.\n",
    "def new_centroids(data, labels, k):\n",
    "    return data.groupby(labels).apply(lambda x: np.exp(np.log(x)).mean()).T"
   ]
  },
  {
   "cell_type": "code",
   "execution_count": 227,
   "metadata": {},
   "outputs": [],
   "source": [
    "def plot_clusters(data, labels, centroids, iterations): \n",
    "    pca = PCA(n_components=2)\n",
    "    data_2d = pca.fit_transform(data)\n",
    "    centroids_2d = pca.transform(centroids.T)\n",
    "    clear_output(wait=True)\n",
    "    plt.title(f'Iteration{iteration}')\n",
    "    plt.scatter(x=data_2d[:,0], y=data_2d[:,1], c=labels)\n",
    "    plt.scatter(x=centroids_2d[:,0], y=centroids_2d[:,1])\n",
    "    plt.show()"
   ]
  },
  {
   "cell_type": "code",
   "execution_count": 228,
   "metadata": {},
   "outputs": [
    {
     "data": {
      "image/png": "[encoded data removed]",
      "text/plain": [
       "<Figure size 640x480 with 1 Axes>"
      ]
     },
     "metadata": {},
     "output_type": "display_data"
    }
   ],
   "source": [
    "max_iterations = 100\n",
    "centroid_count = 3\n",
    "k = 5\n",
    "\n",
    "centroids = random_centroids(data, k)\n",
    "old_centroids = pd.DataFrame()\n",
    "iteration = 1 \n",
    "\n",
    "while iteration < max_iterations and not centroids.equals(old_centroids): \n",
    "    old_centroids = centroids \n",
    "\n",
    "    labels = get_labels(data, centroids)\n",
    "    centroids = new_centroids(data, labels, k)\n",
    "    plot_clusters(data, labels, centroids, iteration)\n",
    "    iteration += 1"
   ]
  },
  {
   "cell_type": "code",
   "execution_count": 229,
   "metadata": {},
   "outputs": [
    {
     "data": {
      "text/html": [
       "<div>\n",
       "<style scoped>\n",
       "    .dataframe tbody tr th:only-of-type {\n",
       "        vertical-align: middle;\n",
       "    }\n",
       "\n",
       "    .dataframe tbody tr th {\n",
       "        vertical-align: top;\n",
       "    }\n",
       "\n",
       "    .dataframe thead th {\n",
       "        text-align: right;\n",
       "    }\n",
       "</style>\n",
       "<table border=\"1\" class=\"dataframe\">\n",
       "  <thead>\n",
       "    <tr style=\"text-align: right;\">\n",
       "      <th></th>\n",
       "      <th>0</th>\n",
       "      <th>1</th>\n",
       "      <th>2</th>\n",
       "      <th>3</th>\n",
       "    </tr>\n",
       "  </thead>\n",
       "  <tbody>\n",
       "    <tr>\n",
       "      <th>ERA</th>\n",
       "      <td>4.100862</td>\n",
       "      <td>5.599754</td>\n",
       "      <td>3.045259</td>\n",
       "      <td>8.232759</td>\n",
       "    </tr>\n",
       "    <tr>\n",
       "      <th>WHIP</th>\n",
       "      <td>6.094915</td>\n",
       "      <td>5.391041</td>\n",
       "      <td>3.008475</td>\n",
       "      <td>8.779661</td>\n",
       "    </tr>\n",
       "    <tr>\n",
       "      <th>H</th>\n",
       "      <td>6.389157</td>\n",
       "      <td>6.491394</td>\n",
       "      <td>2.969880</td>\n",
       "      <td>8.060241</td>\n",
       "    </tr>\n",
       "    <tr>\n",
       "      <th>R</th>\n",
       "      <td>4.613636</td>\n",
       "      <td>5.519481</td>\n",
       "      <td>2.840909</td>\n",
       "      <td>8.060606</td>\n",
       "    </tr>\n",
       "    <tr>\n",
       "      <th>HR</th>\n",
       "      <td>3.448000</td>\n",
       "      <td>6.194286</td>\n",
       "      <td>4.330000</td>\n",
       "      <td>7.920000</td>\n",
       "    </tr>\n",
       "    <tr>\n",
       "      <th>BB</th>\n",
       "      <td>6.794737</td>\n",
       "      <td>3.729323</td>\n",
       "      <td>4.263158</td>\n",
       "      <td>6.614035</td>\n",
       "    </tr>\n",
       "    <tr>\n",
       "      <th>HBP</th>\n",
       "      <td>3.805882</td>\n",
       "      <td>4.327731</td>\n",
       "      <td>4.397059</td>\n",
       "      <td>5.470588</td>\n",
       "    </tr>\n",
       "  </tbody>\n",
       "</table>\n",
       "</div>"
      ],
      "text/plain": [
       "             0         1         2         3\n",
       "ERA   4.100862  5.599754  3.045259  8.232759\n",
       "WHIP  6.094915  5.391041  3.008475  8.779661\n",
       "H     6.389157  6.491394  2.969880  8.060241\n",
       "R     4.613636  5.519481  2.840909  8.060606\n",
       "HR    3.448000  6.194286  4.330000  7.920000\n",
       "BB    6.794737  3.729323  4.263158  6.614035\n",
       "HBP   3.805882  4.327731  4.397059  5.470588"
      ]
     },
     "execution_count": 229,
     "metadata": {},
     "output_type": "execute_result"
    }
   ],
   "source": [
    "centroids"
   ]
  }
 ],
 "metadata": {
  "kernelspec": {
   "display_name": "venv",
   "language": "python",
   "name": "python3"
  },
  "language_info": {
   "codemirror_mode": {
    "name": "ipython",
    "version": 3
   },
   "file_extension": ".py",
   "mimetype": "text/x-python",
   "name": "python",
   "nbconvert_exporter": "python",
   "pygments_lexer": "ipython3",
   "version": "3.11.3"
  }
 },
 "nbformat": 4,
 "nbformat_minor": 2
}
