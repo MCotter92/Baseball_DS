{
 "cells": [
  {
   "cell_type": "code",
   "execution_count": 68,
   "metadata": {},
   "outputs": [],
   "source": [
    "from sklearn.cluster import KMeans\n",
    "from sklearn.metrics import silhouette_score\n",
    "\n",
    "import numpy as np\n",
    "import pandas as pd \n",
    "from pybaseball import pitching_stats\n",
    "from sklearn.decomposition import PCA \n",
    "import matplotlib.pyplot as plt \n",
    "from IPython.display import clear_output\n"
   ]
  },
  {
   "cell_type": "code",
   "execution_count": 57,
   "metadata": {},
   "outputs": [
    {
     "name": "stdout",
     "output_type": "stream",
     "text": [
      "[[1], [0], [14], [33], [2], [10], [9], [22]]\n"
     ]
    }
   ],
   "source": [
    "players = pitching_stats(2020, 2023)\n",
    "players.sort_index(inplace=True)\n",
    "\n",
    "Bauer_2020 = players.index[(players[\"Name\"] == \"Trevor Bauer\") & (players[\"Season\"] == 2020)].to_list()\n",
    "Bieber_2020 = players.index[(players[\"Name\"] == \"Shane Bieber\") & (players[\"Season\"] == 2020)].to_list()\n",
    "\n",
    "Burns_2021 = players.index[(players[\"Name\"] == \"Corbin Burnes\") & (players[\"Season\"] == 2021)].to_list()\n",
    "Ray_2021 = players.index[(players[\"Name\"] == \"Robbie Ray\") & (players[\"Season\"] == 2021)].to_list()\n",
    "\n",
    "Verlander_2022 = players.index[(players[\"Name\"] == \"Justin Verlander\") & (players[\"Season\"] == 2022)].to_list()\n",
    "Alcantara_2022 = players.index[(players[\"Name\"] == \"Sandy Alcantara\") & (players[\"Season\"] == 2022)].to_list()\n",
    "\n",
    "Snell_2023 = players.index[(players[\"Name\"] == \"Blake Snell\") & (players[\"Season\"] == 2023)].to_list()\n",
    "Cole_2023 = players.index[(players[\"Name\"] == \"Gerrit Cole\") & (players[\"Season\"] == 2023)].to_list()\n",
    "\n",
    "\n",
    "winners_ids = [Bauer_2020, Bieber_2020, Burns_2021, Ray_2021, Verlander_2022, Alcantara_2022, Snell_2023, Cole_2023]\n",
    "\n",
    "print(winners_ids)"
   ]
  },
  {
   "cell_type": "code",
   "execution_count": 58,
   "metadata": {},
   "outputs": [],
   "source": [
    "features = [\"ERA\", 'WHIP', 'FIP']\n",
    "data = players[features].copy()"
   ]
  },
  {
   "cell_type": "code",
   "execution_count": 59,
   "metadata": {},
   "outputs": [
    {
     "data": {
      "text/plain": [
       "<bound method NDFrame.head of            ERA      WHIP        FIP\n",
       "0     1.000000  2.317073   1.954217\n",
       "1     1.177165  1.439024   3.710843\n",
       "2     1.212598  1.878049   2.865060\n",
       "3     1.637795  4.731707   4.144578\n",
       "4     1.673228  3.304878   2.301205\n",
       "..         ...       ...        ...\n",
       "163   7.679134  7.804878   7.527711\n",
       "164   8.263780  8.024390   9.457831\n",
       "165   8.423228  8.902439   9.197590\n",
       "166   9.238189  6.378049   9.653012\n",
       "167  10.000000  9.012195  10.000000\n",
       "\n",
       "[168 rows x 3 columns]>"
      ]
     },
     "execution_count": 59,
     "metadata": {},
     "output_type": "execute_result"
    }
   ],
   "source": [
    "data = ((data - data.min()) / (data.max() - data.min())) * 9 + 1\n",
    "data.head"
   ]
  },
  {
   "cell_type": "code",
   "execution_count": 60,
   "metadata": {},
   "outputs": [
    {
     "name": "stderr",
     "output_type": "stream",
     "text": [
      "/Users/mason_cotter/Desktop/python_projects/Pitching_KMeans/venv/lib/python3.11/site-packages/sklearn/cluster/_kmeans.py:1416: FutureWarning: The default value of `n_init` will change from 10 to 'auto' in 1.4. Set the value of `n_init` explicitly to suppress the warning\n",
      "  super()._check_params_vs_input(X, default_n_init=10)\n"
     ]
    }
   ],
   "source": [
    "kmeans = KMeans(3)\n",
    "fit = kmeans.fit(data)\n"
   ]
  },
  {
   "cell_type": "code",
   "execution_count": 61,
   "metadata": {},
   "outputs": [
    {
     "name": "stderr",
     "output_type": "stream",
     "text": [
      "/Users/mason_cotter/Desktop/python_projects/Pitching_KMeans/venv/lib/python3.11/site-packages/sklearn/cluster/_kmeans.py:1416: FutureWarning: The default value of `n_init` will change from 10 to 'auto' in 1.4. Set the value of `n_init` explicitly to suppress the warning\n",
      "  super()._check_params_vs_input(X, default_n_init=10)\n",
      "/Users/mason_cotter/Desktop/python_projects/Pitching_KMeans/venv/lib/python3.11/site-packages/sklearn/cluster/_kmeans.py:1416: FutureWarning: The default value of `n_init` will change from 10 to 'auto' in 1.4. Set the value of `n_init` explicitly to suppress the warning\n",
      "  super()._check_params_vs_input(X, default_n_init=10)\n",
      "/Users/mason_cotter/Desktop/python_projects/Pitching_KMeans/venv/lib/python3.11/site-packages/sklearn/cluster/_kmeans.py:1416: FutureWarning: The default value of `n_init` will change from 10 to 'auto' in 1.4. Set the value of `n_init` explicitly to suppress the warning\n",
      "  super()._check_params_vs_input(X, default_n_init=10)\n",
      "/Users/mason_cotter/Desktop/python_projects/Pitching_KMeans/venv/lib/python3.11/site-packages/sklearn/cluster/_kmeans.py:1416: FutureWarning: The default value of `n_init` will change from 10 to 'auto' in 1.4. Set the value of `n_init` explicitly to suppress the warning\n",
      "  super()._check_params_vs_input(X, default_n_init=10)\n",
      "/Users/mason_cotter/Desktop/python_projects/Pitching_KMeans/venv/lib/python3.11/site-packages/sklearn/cluster/_kmeans.py:1416: FutureWarning: The default value of `n_init` will change from 10 to 'auto' in 1.4. Set the value of `n_init` explicitly to suppress the warning\n",
      "  super()._check_params_vs_input(X, default_n_init=10)\n",
      "/Users/mason_cotter/Desktop/python_projects/Pitching_KMeans/venv/lib/python3.11/site-packages/sklearn/cluster/_kmeans.py:1416: FutureWarning: The default value of `n_init` will change from 10 to 'auto' in 1.4. Set the value of `n_init` explicitly to suppress the warning\n",
      "  super()._check_params_vs_input(X, default_n_init=10)\n"
     ]
    }
   ],
   "source": [
    "kmeans.inertia_\n",
    "\n",
    "wcss = []\n",
    "for i in range(1,7): \n",
    "    kmeans = KMeans(i)\n",
    "    kmeans.fit(data)\n",
    "    wcss_iter = kmeans.inertia_\n",
    "    wcss.append(wcss_iter)"
   ]
  },
  {
   "cell_type": "code",
   "execution_count": 62,
   "metadata": {},
   "outputs": [
    {
     "data": {
      "text/plain": [
       "[1380.2929446341968,\n",
       " 606.9535615539272,\n",
       " 430.97507630066843,\n",
       " 330.57190826679096,\n",
       " 285.16347798372476,\n",
       " 248.6727512541545]"
      ]
     },
     "execution_count": 62,
     "metadata": {},
     "output_type": "execute_result"
    }
   ],
   "source": [
    "wcss"
   ]
  },
  {
   "cell_type": "code",
   "execution_count": 63,
   "metadata": {},
   "outputs": [
    {
     "data": {
      "text/plain": [
       "Text(0, 0.5, 'WCSS')"
      ]
     },
     "execution_count": 63,
     "metadata": {},
     "output_type": "execute_result"
    },
    {
     "data": {
      "image/png": "[encoded data removed]",
      "text/plain": [
       "<Figure size 640x480 with 1 Axes>"
      ]
     },
     "metadata": {},
     "output_type": "display_data"
    }
   ],
   "source": [
    "number_clusters = range(1,7)\n",
    "plt.plot(number_clusters,wcss)\n",
    "plt.title(\"The Elbow Method\")\n",
    "plt.xlabel(\"Number of Clusters\")\n",
    "plt.ylabel(\"WCSS\")\n"
   ]
  },
  {
   "cell_type": "code",
   "execution_count": 64,
   "metadata": {},
   "outputs": [],
   "source": [
    "centroids = kmeans.cluster_centers_"
   ]
  },
  {
   "cell_type": "code",
   "execution_count": 69,
   "metadata": {},
   "outputs": [],
   "source": [
    "pd.DataFrame(centroids, columns=features).T\n",
    "silhouette_avg = silhouette_score(data, kmeans.labels_)"
   ]
  },
  {
   "cell_type": "code",
   "execution_count": 70,
   "metadata": {},
   "outputs": [
    {
     "data": {
      "text/plain": [
       "0.2883385102913418"
      ]
     },
     "execution_count": 70,
     "metadata": {},
     "output_type": "execute_result"
    }
   ],
   "source": [
    "silhouette_avg"
   ]
  },
  {
   "cell_type": "code",
   "execution_count": 71,
   "metadata": {},
   "outputs": [
    {
     "data": {
      "text/plain": [
       "array([[1],\n",
       "       [1],\n",
       "       [1],\n",
       "       [1],\n",
       "       [1],\n",
       "       [1],\n",
       "       [1],\n",
       "       [1]], dtype=int32)"
      ]
     },
     "execution_count": 71,
     "metadata": {},
     "output_type": "execute_result"
    }
   ],
   "source": [
    "fit.labels_[winners_ids]\n"
   ]
  }
 ],
 "metadata": {
  "kernelspec": {
   "display_name": "venv",
   "language": "python",
   "name": "python3"
  },
  "language_info": {
   "codemirror_mode": {
    "name": "ipython",
    "version": 3
   },
   "file_extension": ".py",
   "mimetype": "text/x-python",
   "name": "python",
   "nbconvert_exporter": "python",
   "pygments_lexer": "ipython3",
   "version": "3.11.3"
  }
 },
 "nbformat": 4,
 "nbformat_minor": 2
}
