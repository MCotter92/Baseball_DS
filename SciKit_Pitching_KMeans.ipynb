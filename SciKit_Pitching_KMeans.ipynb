{
 "cells": [
  {
   "cell_type": "code",
   "execution_count": 21,
   "metadata": {},
   "outputs": [],
   "source": [
    "from sklearn.cluster import KMeans\n",
    "\n",
    "import numpy as np\n",
    "import pandas as pd \n",
    "from pybaseball import pitching_stats\n",
    "from sklearn.decomposition import PCA \n",
    "import matplotlib.pyplot as plt \n",
    "from IPython.display import clear_output\n"
   ]
  },
  {
   "cell_type": "code",
   "execution_count": 22,
   "metadata": {},
   "outputs": [
    {
     "name": "stdout",
     "output_type": "stream",
     "text": [
      "[[1], [0], [14], [33], [2], [10], [9], [22]]\n"
     ]
    }
   ],
   "source": [
    "players = pitching_stats(2020, 2023)\n",
    "players.sort_index(inplace=True)\n",
    "\n",
    "Bauer_2020 = players.index[(players[\"Name\"] == \"Trevor Bauer\") & (players[\"Season\"] == 2020)].to_list()\n",
    "Bieber_2020 = players.index[(players[\"Name\"] == \"Shane Bieber\") & (players[\"Season\"] == 2020)].to_list()\n",
    "\n",
    "Burns_2021 = players.index[(players[\"Name\"] == \"Corbin Burnes\") & (players[\"Season\"] == 2021)].to_list()\n",
    "Ray_2021 = players.index[(players[\"Name\"] == \"Robbie Ray\") & (players[\"Season\"] == 2021)].to_list()\n",
    "\n",
    "Verlander_2022 = players.index[(players[\"Name\"] == \"Justin Verlander\") & (players[\"Season\"] == 2022)].to_list()\n",
    "Alcantara_2022 = players.index[(players[\"Name\"] == \"Sandy Alcantara\") & (players[\"Season\"] == 2022)].to_list()\n",
    "\n",
    "Snell_2023 = players.index[(players[\"Name\"] == \"Blake Snell\") & (players[\"Season\"] == 2023)].to_list()\n",
    "Cole_2023 = players.index[(players[\"Name\"] == \"Gerrit Cole\") & (players[\"Season\"] == 2023)].to_list()\n",
    "\n",
    "\n",
    "winners_ids = [Bauer_2020, Bieber_2020, Burns_2021, Ray_2021, Verlander_2022, Alcantara_2022, Snell_2023, Cole_2023]\n",
    "\n",
    "print(winners_ids)"
   ]
  },
  {
   "cell_type": "code",
   "execution_count": 23,
   "metadata": {},
   "outputs": [],
   "source": [
    "features = [\"ERA\", 'WHIP', 'H', 'R', \"HR\", 'BB', 'HBP']\n",
    "data = players[features].copy()"
   ]
  },
  {
   "cell_type": "code",
   "execution_count": 24,
   "metadata": {},
   "outputs": [
    {
     "data": {
      "text/plain": [
       "<bound method NDFrame.head of            ERA      WHIP         H          R         HR        BB  HBP\n",
       "0     1.000000  2.317073  1.336898   1.000000   2.071429  2.369565  1.5\n",
       "1     1.177165  1.439024  1.096257   1.156522   2.500000  1.978261  2.5\n",
       "2     1.212598  1.878049  4.705882   3.191304   3.142857  3.152174  4.0\n",
       "3     1.637795  4.731707  1.625668   1.000000   1.000000  1.978261  1.0\n",
       "4     1.673228  3.304878  1.962567   1.234783   1.642857  1.684783  2.0\n",
       "..         ...       ...       ...        ...        ...       ...  ...\n",
       "163   7.679134  7.804878  2.058824   3.034783   2.500000  2.858696  2.5\n",
       "164   8.263780  8.024390  8.219251   9.765217  10.000000  6.869565  5.5\n",
       "165   8.423228  8.902439  8.363636   8.747826   8.500000  6.184783  2.5\n",
       "166   9.238189  6.378049  7.593583  10.000000   8.928571  4.717391  4.0\n",
       "167  10.000000  9.012195  2.347594   3.426087   3.785714  2.467391  3.5\n",
       "\n",
       "[168 rows x 7 columns]>"
      ]
     },
     "execution_count": 24,
     "metadata": {},
     "output_type": "execute_result"
    }
   ],
   "source": [
    "data = ((data - data.min()) / (data.max() - data.min())) * 9 + 1\n",
    "data.head"
   ]
  },
  {
   "cell_type": "code",
   "execution_count": 25,
   "metadata": {},
   "outputs": [
    {
     "name": "stderr",
     "output_type": "stream",
     "text": [
      "/Users/mason_cotter/Desktop/python_projects/Pitching_KMeans/venv/lib/python3.11/site-packages/sklearn/cluster/_kmeans.py:1416: FutureWarning: The default value of `n_init` will change from 10 to 'auto' in 1.4. Set the value of `n_init` explicitly to suppress the warning\n",
      "  super()._check_params_vs_input(X, default_n_init=10)\n"
     ]
    }
   ],
   "source": [
    "kmeans = KMeans(4)\n",
    "fit = kmeans.fit(data)\n"
   ]
  },
  {
   "cell_type": "code",
   "execution_count": 26,
   "metadata": {},
   "outputs": [],
   "source": [
    "centroids = kmeans.cluster_centers_"
   ]
  },
  {
   "cell_type": "code",
   "execution_count": 27,
   "metadata": {},
   "outputs": [
    {
     "data": {
      "text/html": [
       "<div>\n",
       "<style scoped>\n",
       "    .dataframe tbody tr th:only-of-type {\n",
       "        vertical-align: middle;\n",
       "    }\n",
       "\n",
       "    .dataframe tbody tr th {\n",
       "        vertical-align: top;\n",
       "    }\n",
       "\n",
       "    .dataframe thead th {\n",
       "        text-align: right;\n",
       "    }\n",
       "</style>\n",
       "<table border=\"1\" class=\"dataframe\">\n",
       "  <thead>\n",
       "    <tr style=\"text-align: right;\">\n",
       "      <th></th>\n",
       "      <th>0</th>\n",
       "      <th>1</th>\n",
       "      <th>2</th>\n",
       "      <th>3</th>\n",
       "    </tr>\n",
       "  </thead>\n",
       "  <tbody>\n",
       "    <tr>\n",
       "      <th>ERA</th>\n",
       "      <td>3.413878</td>\n",
       "      <td>4.259400</td>\n",
       "      <td>6.487064</td>\n",
       "      <td>4.580753</td>\n",
       "    </tr>\n",
       "    <tr>\n",
       "      <th>WHIP</th>\n",
       "      <td>4.580793</td>\n",
       "      <td>5.360061</td>\n",
       "      <td>7.373693</td>\n",
       "      <td>5.639690</td>\n",
       "    </tr>\n",
       "    <tr>\n",
       "      <th>H</th>\n",
       "      <td>6.486631</td>\n",
       "      <td>1.989037</td>\n",
       "      <td>7.920168</td>\n",
       "      <td>6.842124</td>\n",
       "    </tr>\n",
       "    <tr>\n",
       "      <th>R</th>\n",
       "      <td>5.016460</td>\n",
       "      <td>2.054565</td>\n",
       "      <td>7.604658</td>\n",
       "      <td>5.996245</td>\n",
       "    </tr>\n",
       "    <tr>\n",
       "      <th>HR</th>\n",
       "      <td>4.558673</td>\n",
       "      <td>2.360714</td>\n",
       "      <td>6.686224</td>\n",
       "      <td>5.202922</td>\n",
       "    </tr>\n",
       "    <tr>\n",
       "      <th>BB</th>\n",
       "      <td>4.775039</td>\n",
       "      <td>2.217935</td>\n",
       "      <td>5.608307</td>\n",
       "      <td>5.615613</td>\n",
       "    </tr>\n",
       "    <tr>\n",
       "      <th>HBP</th>\n",
       "      <td>3.571429</td>\n",
       "      <td>2.225000</td>\n",
       "      <td>4.071429</td>\n",
       "      <td>6.306818</td>\n",
       "    </tr>\n",
       "  </tbody>\n",
       "</table>\n",
       "</div>"
      ],
      "text/plain": [
       "             0         1         2         3\n",
       "ERA   3.413878  4.259400  6.487064  4.580753\n",
       "WHIP  4.580793  5.360061  7.373693  5.639690\n",
       "H     6.486631  1.989037  7.920168  6.842124\n",
       "R     5.016460  2.054565  7.604658  5.996245\n",
       "HR    4.558673  2.360714  6.686224  5.202922\n",
       "BB    4.775039  2.217935  5.608307  5.615613\n",
       "HBP   3.571429  2.225000  4.071429  6.306818"
      ]
     },
     "execution_count": 27,
     "metadata": {},
     "output_type": "execute_result"
    }
   ],
   "source": [
    "pd.DataFrame(centroids, columns=features).T"
   ]
  },
  {
   "cell_type": "code",
   "execution_count": 28,
   "metadata": {},
   "outputs": [
    {
     "data": {
      "text/plain": [
       "array([[1],\n",
       "       [1],\n",
       "       [0],\n",
       "       [0],\n",
       "       [0],\n",
       "       [0],\n",
       "       [0],\n",
       "       [0]], dtype=int32)"
      ]
     },
     "execution_count": 28,
     "metadata": {},
     "output_type": "execute_result"
    }
   ],
   "source": [
    "fit.labels_[winners_ids]\n"
   ]
  },
  {
   "cell_type": "markdown",
   "metadata": {},
   "source": [
    "These groups seem to be similar to my groups from scratch which is a good sign. However, they do jump around everytime I run the program so I'm not sure if there is a way to hone this. Maybe I need to use the elbow method in the future. "
   ]
  }
 ],
 "metadata": {
  "kernelspec": {
   "display_name": "venv",
   "language": "python",
   "name": "python3"
  },
  "language_info": {
   "codemirror_mode": {
    "name": "ipython",
    "version": 3
   },
   "file_extension": ".py",
   "mimetype": "text/x-python",
   "name": "python",
   "nbconvert_exporter": "python",
   "pygments_lexer": "ipython3",
   "version": "3.11.3"
  }
 },
 "nbformat": 4,
 "nbformat_minor": 2
}
