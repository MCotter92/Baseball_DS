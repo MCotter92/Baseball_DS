{
 "cells": [
  {
   "cell_type": "markdown",
   "metadata": {},
   "source": [
    "The goal of this notebook is to catagorize pitchers using k-means clustering (from scratch and with Scikit-learn) to see how the winners of the 2022 cy young winners compare to the groups they are assigned to. \n",
    "\n",
    "I followed Dataquest's video to help me with this project."
   ]
  },
  {
   "cell_type": "markdown",
   "metadata": {},
   "source": [
    "K-Means from scratch. "
   ]
  },
  {
   "cell_type": "code",
   "execution_count": 234,
   "metadata": {},
   "outputs": [],
   "source": [
    "# Importing libraries \n",
    "import numpy as np\n",
    "import pandas as pd \n",
    "from pybaseball import pitching_stats\n",
    "from sklearn.decomposition import PCA \n",
    "import matplotlib.pyplot as plt \n",
    "from IPython.display import clear_output\n",
    "\n",
    "## 2022 CY Young Winners were Sandy Alcantara and Justin Verlander.\n",
    "\n"
   ]
  },
  {
   "cell_type": "code",
   "execution_count": 235,
   "metadata": {},
   "outputs": [
    {
     "name": "stdout",
     "output_type": "stream",
     "text": [
      "[[1], [0], [14], [33], [2], [10], [9], [22]]\n"
     ]
    }
   ],
   "source": [
    "# Importing and cleaning data \n",
    "players = pitching_stats(2020, 2023)\n",
    "players.sort_index(inplace=True)\n",
    "\n",
    "Bauer_2020 = players.index[(players[\"Name\"] == \"Trevor Bauer\") & (players[\"Season\"] == 2020)].to_list()\n",
    "Bieber_2020 = players.index[(players[\"Name\"] == \"Shane Bieber\") & (players[\"Season\"] == 2020)].to_list()\n",
    "\n",
    "Burns_2021 = players.index[(players[\"Name\"] == \"Corbin Burnes\") & (players[\"Season\"] == 2021)].to_list()\n",
    "Ray_2021 = players.index[(players[\"Name\"] == \"Robbie Ray\") & (players[\"Season\"] == 2021)].to_list()\n",
    "\n",
    "Verlander_2022 = players.index[(players[\"Name\"] == \"Justin Verlander\") & (players[\"Season\"] == 2022)].to_list()\n",
    "Alcantara_2022 = players.index[(players[\"Name\"] == \"Sandy Alcantara\") & (players[\"Season\"] == 2022)].to_list()\n",
    "\n",
    "Snell_2023 = players.index[(players[\"Name\"] == \"Blake Snell\") & (players[\"Season\"] == 2023)].to_list()\n",
    "Cole_2023 = players.index[(players[\"Name\"] == \"Gerrit Cole\") & (players[\"Season\"] == 2023)].to_list()\n",
    "\n",
    "\n",
    "winners_ids = [Bauer_2020, Bieber_2020, Burns_2021, Ray_2021, Verlander_2022, Alcantara_2022, Snell_2023, Cole_2023]\n",
    "\n",
    "print(winners_ids)"
   ]
  },
  {
   "cell_type": "code",
   "execution_count": 236,
   "metadata": {},
   "outputs": [],
   "source": [
    "features = [\"ERA\", 'WHIP', 'H', 'R', \"HR\", 'BB', 'HBP']\n",
    "data = players[features].copy()"
   ]
  },
  {
   "cell_type": "markdown",
   "metadata": {},
   "source": [
    "1. Scale the data\n",
    "2. Initalize random centroids\n",
    "3. Label each data point based on how far that data point is from each centroid (cluster assignment for each pitcher)\n",
    "4. Update centroids\n",
    "5. Repeat steps 3, 4 until centroids stop changing"
   ]
  },
  {
   "cell_type": "code",
   "execution_count": 237,
   "metadata": {},
   "outputs": [
    {
     "data": {
      "text/plain": [
       "<bound method NDFrame.head of            ERA      WHIP         H          R         HR        BB  HBP\n",
       "0     1.000000  2.317073  1.336898   1.000000   2.071429  2.369565  1.5\n",
       "1     1.177165  1.439024  1.096257   1.156522   2.500000  1.978261  2.5\n",
       "2     1.212598  1.878049  4.705882   3.191304   3.142857  3.152174  4.0\n",
       "3     1.637795  4.731707  1.625668   1.000000   1.000000  1.978261  1.0\n",
       "4     1.673228  3.304878  1.962567   1.234783   1.642857  1.684783  2.0\n",
       "..         ...       ...       ...        ...        ...       ...  ...\n",
       "163   7.679134  7.804878  2.058824   3.034783   2.500000  2.858696  2.5\n",
       "164   8.263780  8.024390  8.219251   9.765217  10.000000  6.869565  5.5\n",
       "165   8.423228  8.902439  8.363636   8.747826   8.500000  6.184783  2.5\n",
       "166   9.238189  6.378049  7.593583  10.000000   8.928571  4.717391  4.0\n",
       "167  10.000000  9.012195  2.347594   3.426087   3.785714  2.467391  3.5\n",
       "\n",
       "[168 rows x 7 columns]>"
      ]
     },
     "execution_count": 237,
     "metadata": {},
     "output_type": "execute_result"
    }
   ],
   "source": [
    "data = ((data - data.min()) / (data.max() - data.min())) * 9 + 1\n",
    "data.head"
   ]
  },
  {
   "cell_type": "code",
   "execution_count": 238,
   "metadata": {},
   "outputs": [
    {
     "data": {
      "text/html": [
       "<div>\n",
       "<style scoped>\n",
       "    .dataframe tbody tr th:only-of-type {\n",
       "        vertical-align: middle;\n",
       "    }\n",
       "\n",
       "    .dataframe tbody tr th {\n",
       "        vertical-align: top;\n",
       "    }\n",
       "\n",
       "    .dataframe thead th {\n",
       "        text-align: right;\n",
       "    }\n",
       "</style>\n",
       "<table border=\"1\" class=\"dataframe\">\n",
       "  <thead>\n",
       "    <tr style=\"text-align: right;\">\n",
       "      <th></th>\n",
       "      <th>ERA</th>\n",
       "      <th>WHIP</th>\n",
       "      <th>H</th>\n",
       "      <th>R</th>\n",
       "      <th>HR</th>\n",
       "      <th>BB</th>\n",
       "      <th>HBP</th>\n",
       "    </tr>\n",
       "  </thead>\n",
       "  <tbody>\n",
       "    <tr>\n",
       "      <th>count</th>\n",
       "      <td>168.000000</td>\n",
       "      <td>168.000000</td>\n",
       "      <td>168.000000</td>\n",
       "      <td>168.000000</td>\n",
       "      <td>168.000000</td>\n",
       "      <td>168.000000</td>\n",
       "      <td>168.000000</td>\n",
       "    </tr>\n",
       "    <tr>\n",
       "      <th>mean</th>\n",
       "      <td>4.433001</td>\n",
       "      <td>5.509146</td>\n",
       "      <td>5.747804</td>\n",
       "      <td>4.999224</td>\n",
       "      <td>4.558673</td>\n",
       "      <td>4.525233</td>\n",
       "      <td>4.050595</td>\n",
       "    </tr>\n",
       "    <tr>\n",
       "      <th>std</th>\n",
       "      <td>1.607208</td>\n",
       "      <td>1.701497</td>\n",
       "      <td>2.310071</td>\n",
       "      <td>2.019434</td>\n",
       "      <td>1.780074</td>\n",
       "      <td>1.756402</td>\n",
       "      <td>1.971838</td>\n",
       "    </tr>\n",
       "    <tr>\n",
       "      <th>min</th>\n",
       "      <td>1.000000</td>\n",
       "      <td>1.000000</td>\n",
       "      <td>1.000000</td>\n",
       "      <td>1.000000</td>\n",
       "      <td>1.000000</td>\n",
       "      <td>1.000000</td>\n",
       "      <td>1.000000</td>\n",
       "    </tr>\n",
       "    <tr>\n",
       "      <th>25%</th>\n",
       "      <td>3.303150</td>\n",
       "      <td>4.265244</td>\n",
       "      <td>4.705882</td>\n",
       "      <td>3.484783</td>\n",
       "      <td>3.142857</td>\n",
       "      <td>3.054348</td>\n",
       "      <td>2.500000</td>\n",
       "    </tr>\n",
       "    <tr>\n",
       "      <th>50%</th>\n",
       "      <td>4.215551</td>\n",
       "      <td>5.500000</td>\n",
       "      <td>6.606952</td>\n",
       "      <td>5.382609</td>\n",
       "      <td>4.642857</td>\n",
       "      <td>4.668478</td>\n",
       "      <td>4.000000</td>\n",
       "    </tr>\n",
       "    <tr>\n",
       "      <th>75%</th>\n",
       "      <td>5.455709</td>\n",
       "      <td>6.597561</td>\n",
       "      <td>7.352941</td>\n",
       "      <td>6.243478</td>\n",
       "      <td>5.714286</td>\n",
       "      <td>5.695652</td>\n",
       "      <td>5.500000</td>\n",
       "    </tr>\n",
       "    <tr>\n",
       "      <th>max</th>\n",
       "      <td>10.000000</td>\n",
       "      <td>10.000000</td>\n",
       "      <td>10.000000</td>\n",
       "      <td>10.000000</td>\n",
       "      <td>10.000000</td>\n",
       "      <td>10.000000</td>\n",
       "      <td>10.000000</td>\n",
       "    </tr>\n",
       "  </tbody>\n",
       "</table>\n",
       "</div>"
      ],
      "text/plain": [
       "              ERA        WHIP           H           R          HR          BB  \\\n",
       "count  168.000000  168.000000  168.000000  168.000000  168.000000  168.000000   \n",
       "mean     4.433001    5.509146    5.747804    4.999224    4.558673    4.525233   \n",
       "std      1.607208    1.701497    2.310071    2.019434    1.780074    1.756402   \n",
       "min      1.000000    1.000000    1.000000    1.000000    1.000000    1.000000   \n",
       "25%      3.303150    4.265244    4.705882    3.484783    3.142857    3.054348   \n",
       "50%      4.215551    5.500000    6.606952    5.382609    4.642857    4.668478   \n",
       "75%      5.455709    6.597561    7.352941    6.243478    5.714286    5.695652   \n",
       "max     10.000000   10.000000   10.000000   10.000000   10.000000   10.000000   \n",
       "\n",
       "              HBP  \n",
       "count  168.000000  \n",
       "mean     4.050595  \n",
       "std      1.971838  \n",
       "min      1.000000  \n",
       "25%      2.500000  \n",
       "50%      4.000000  \n",
       "75%      5.500000  \n",
       "max     10.000000  "
      ]
     },
     "execution_count": 238,
     "metadata": {},
     "output_type": "execute_result"
    }
   ],
   "source": [
    "data.describe()\n"
   ]
  },
  {
   "cell_type": "code",
   "execution_count": 239,
   "metadata": {},
   "outputs": [],
   "source": [
    "\n",
    "# Iterate through each column in our data, then calls x.sample to select a single random value from that column and turns it into a float. \n",
    "# Next it appends these centroids into a list and when the loop is complete it it creates a dataframe out of them with each column being each centroid. \n",
    "def random_centroids(data, k):\n",
    "    centroids = []\n",
    "    for i in range(k):\n",
    "        centroid = data.apply(lambda x: float(x.sample()))\n",
    "        centroids.append(centroid)\n",
    "    return pd.concat(centroids, axis = 1)\n",
    "\n",
    "\n",
    "\n"
   ]
  },
  {
   "cell_type": "code",
   "execution_count": 240,
   "metadata": {},
   "outputs": [
    {
     "name": "stderr",
     "output_type": "stream",
     "text": [
      "/var/folders/zh/rgqvb6zn45j1dm3h1gw654r00000gn/T/ipykernel_8751/839499929.py:6: FutureWarning: Calling float on a single element Series is deprecated and will raise a TypeError in the future. Use float(ser.iloc[0]) instead\n",
      "  centroid = data.apply(lambda x: float(x.sample()))\n"
     ]
    },
    {
     "data": {
      "text/html": [
       "<div>\n",
       "<style scoped>\n",
       "    .dataframe tbody tr th:only-of-type {\n",
       "        vertical-align: middle;\n",
       "    }\n",
       "\n",
       "    .dataframe tbody tr th {\n",
       "        vertical-align: top;\n",
       "    }\n",
       "\n",
       "    .dataframe thead th {\n",
       "        text-align: right;\n",
       "    }\n",
       "</style>\n",
       "<table border=\"1\" class=\"dataframe\">\n",
       "  <thead>\n",
       "    <tr style=\"text-align: right;\">\n",
       "      <th></th>\n",
       "      <th>0</th>\n",
       "      <th>1</th>\n",
       "      <th>2</th>\n",
       "      <th>3</th>\n",
       "    </tr>\n",
       "  </thead>\n",
       "  <tbody>\n",
       "    <tr>\n",
       "      <th>ERA</th>\n",
       "      <td>4.312992</td>\n",
       "      <td>3.692913</td>\n",
       "      <td>3.870079</td>\n",
       "      <td>4.596457</td>\n",
       "    </tr>\n",
       "    <tr>\n",
       "      <th>WHIP</th>\n",
       "      <td>4.182927</td>\n",
       "      <td>6.268293</td>\n",
       "      <td>5.609756</td>\n",
       "      <td>4.731707</td>\n",
       "    </tr>\n",
       "    <tr>\n",
       "      <th>H</th>\n",
       "      <td>2.828877</td>\n",
       "      <td>8.171123</td>\n",
       "      <td>7.545455</td>\n",
       "      <td>4.994652</td>\n",
       "    </tr>\n",
       "    <tr>\n",
       "      <th>R</th>\n",
       "      <td>5.382609</td>\n",
       "      <td>4.991304</td>\n",
       "      <td>6.243478</td>\n",
       "      <td>2.565217</td>\n",
       "    </tr>\n",
       "    <tr>\n",
       "      <th>HR</th>\n",
       "      <td>3.571429</td>\n",
       "      <td>5.285714</td>\n",
       "      <td>4.857143</td>\n",
       "      <td>1.214286</td>\n",
       "    </tr>\n",
       "    <tr>\n",
       "      <th>BB</th>\n",
       "      <td>2.565217</td>\n",
       "      <td>2.271739</td>\n",
       "      <td>2.467391</td>\n",
       "      <td>2.369565</td>\n",
       "    </tr>\n",
       "    <tr>\n",
       "      <th>HBP</th>\n",
       "      <td>1.000000</td>\n",
       "      <td>3.000000</td>\n",
       "      <td>4.500000</td>\n",
       "      <td>4.000000</td>\n",
       "    </tr>\n",
       "  </tbody>\n",
       "</table>\n",
       "</div>"
      ],
      "text/plain": [
       "             0         1         2         3\n",
       "ERA   4.312992  3.692913  3.870079  4.596457\n",
       "WHIP  4.182927  6.268293  5.609756  4.731707\n",
       "H     2.828877  8.171123  7.545455  4.994652\n",
       "R     5.382609  4.991304  6.243478  2.565217\n",
       "HR    3.571429  5.285714  4.857143  1.214286\n",
       "BB    2.565217  2.271739  2.467391  2.369565\n",
       "HBP   1.000000  3.000000  4.500000  4.000000"
      ]
     },
     "execution_count": 240,
     "metadata": {},
     "output_type": "execute_result"
    }
   ],
   "source": [
    "centroids = random_centroids(data, 4)\n",
    "centroids"
   ]
  },
  {
   "cell_type": "code",
   "execution_count": 241,
   "metadata": {},
   "outputs": [],
   "source": [
    "# Label each datapoint according to the cluster centers. \n",
    "# Looks at each player (data point) and finds the eculidian distance between the player and each centroid. \n",
    "# Next it finds the cluster center that is closest to that player. \n",
    "\n",
    "def get_labels(data, centroids):\n",
    "    distances = centroids.apply(lambda x: np.sqrt(((data - x) **2).sum(axis=1)))\n",
    "    return distances.idxmin(axis=1)\n",
    "\n"
   ]
  },
  {
   "cell_type": "code",
   "execution_count": 242,
   "metadata": {},
   "outputs": [
    {
     "data": {
      "text/plain": [
       "2    96\n",
       "3    31\n",
       "1    21\n",
       "0    20\n",
       "Name: count, dtype: int64"
      ]
     },
     "execution_count": 242,
     "metadata": {},
     "output_type": "execute_result"
    }
   ],
   "source": [
    "labels = get_labels(data, centroids)\n",
    "labels.value_counts()"
   ]
  },
  {
   "cell_type": "code",
   "execution_count": 243,
   "metadata": {},
   "outputs": [],
   "source": [
    "# Grouping data by labels. \n",
    "# Finding the geometric mean of each cluster.\n",
    "def new_centroids(data, labels, k):\n",
    "    return data.groupby(labels).apply(lambda x: np.exp(np.log(x)).mean()).T"
   ]
  },
  {
   "cell_type": "code",
   "execution_count": 244,
   "metadata": {},
   "outputs": [],
   "source": [
    "def plot_clusters(data, labels, centroids, iterations): \n",
    "    pca = PCA(n_components=2)\n",
    "    data_2d = pca.fit_transform(data)\n",
    "    centroids_2d = pca.transform(centroids.T)\n",
    "    clear_output(wait=True)\n",
    "    plt.title(f'Iteration{iteration}')\n",
    "    plt.scatter(x=data_2d[:,0], y=data_2d[:,1], c=labels, marker= \"*\")\n",
    "    plt.scatter(x=centroids_2d[:,0], y=centroids_2d[:,1])\n",
    "    plt.show()"
   ]
  },
  {
   "cell_type": "code",
   "execution_count": null,
   "metadata": {},
   "outputs": [],
   "source": [
    "# Elbow Method \n",
    "\n"
   ]
  },
  {
   "cell_type": "code",
   "execution_count": 245,
   "metadata": {},
   "outputs": [
    {
     "data": {
      "image/png": "[encoded data removed]",
      "text/plain": [
       "<Figure size 640x480 with 1 Axes>"
      ]
     },
     "metadata": {},
     "output_type": "display_data"
    }
   ],
   "source": [
    "max_iterations = 100\n",
    "k = 4\n",
    "\n",
    "centroids = random_centroids(data, k)\n",
    "old_centroids = pd.DataFrame()\n",
    "iteration = 1 \n",
    "\n",
    "while iteration < max_iterations and not centroids.equals(old_centroids): \n",
    "    old_centroids = centroids \n",
    "\n",
    "    labels = get_labels(data, centroids)\n",
    "    centroids = new_centroids(data, labels, k)\n",
    "    plot_clusters(data, labels, centroids, iteration)\n",
    "    iteration += 1"
   ]
  },
  {
   "cell_type": "code",
   "execution_count": 246,
   "metadata": {},
   "outputs": [
    {
     "data": {
      "text/html": [
       "<div>\n",
       "<style scoped>\n",
       "    .dataframe tbody tr th:only-of-type {\n",
       "        vertical-align: middle;\n",
       "    }\n",
       "\n",
       "    .dataframe tbody tr th {\n",
       "        vertical-align: top;\n",
       "    }\n",
       "\n",
       "    .dataframe thead th {\n",
       "        text-align: right;\n",
       "    }\n",
       "</style>\n",
       "<table border=\"1\" class=\"dataframe\">\n",
       "  <thead>\n",
       "    <tr style=\"text-align: right;\">\n",
       "      <th></th>\n",
       "      <th>0</th>\n",
       "      <th>1</th>\n",
       "      <th>2</th>\n",
       "      <th>3</th>\n",
       "    </tr>\n",
       "  </thead>\n",
       "  <tbody>\n",
       "    <tr>\n",
       "      <th>ERA</th>\n",
       "      <td>4.628669</td>\n",
       "      <td>4.259400</td>\n",
       "      <td>3.089370</td>\n",
       "      <td>6.456060</td>\n",
       "    </tr>\n",
       "    <tr>\n",
       "      <th>WHIP</th>\n",
       "      <td>5.539911</td>\n",
       "      <td>5.360061</td>\n",
       "      <td>4.300000</td>\n",
       "      <td>7.604965</td>\n",
       "    </tr>\n",
       "    <tr>\n",
       "      <th>H</th>\n",
       "      <td>7.092173</td>\n",
       "      <td>1.989037</td>\n",
       "      <td>6.118717</td>\n",
       "      <td>7.880634</td>\n",
       "    </tr>\n",
       "    <tr>\n",
       "      <th>R</th>\n",
       "      <td>5.995889</td>\n",
       "      <td>2.054565</td>\n",
       "      <td>4.779130</td>\n",
       "      <td>7.601863</td>\n",
       "    </tr>\n",
       "    <tr>\n",
       "      <th>HR</th>\n",
       "      <td>5.480519</td>\n",
       "      <td>2.360714</td>\n",
       "      <td>4.171429</td>\n",
       "      <td>6.510204</td>\n",
       "    </tr>\n",
       "    <tr>\n",
       "      <th>BB</th>\n",
       "      <td>4.882806</td>\n",
       "      <td>2.217935</td>\n",
       "      <td>5.141304</td>\n",
       "      <td>6.128882</td>\n",
       "    </tr>\n",
       "    <tr>\n",
       "      <th>HBP</th>\n",
       "      <td>3.809091</td>\n",
       "      <td>2.225000</td>\n",
       "      <td>5.033333</td>\n",
       "      <td>5.553571</td>\n",
       "    </tr>\n",
       "  </tbody>\n",
       "</table>\n",
       "</div>"
      ],
      "text/plain": [
       "             0         1         2         3\n",
       "ERA   4.628669  4.259400  3.089370  6.456060\n",
       "WHIP  5.539911  5.360061  4.300000  7.604965\n",
       "H     7.092173  1.989037  6.118717  7.880634\n",
       "R     5.995889  2.054565  4.779130  7.601863\n",
       "HR    5.480519  2.360714  4.171429  6.510204\n",
       "BB    4.882806  2.217935  5.141304  6.128882\n",
       "HBP   3.809091  2.225000  5.033333  5.553571"
      ]
     },
     "execution_count": 246,
     "metadata": {},
     "output_type": "execute_result"
    }
   ],
   "source": [
    "centroids"
   ]
  },
  {
   "cell_type": "code",
   "execution_count": 247,
   "metadata": {},
   "outputs": [
    {
     "name": "stdout",
     "output_type": "stream",
     "text": [
      "1    1\n",
      "dtype: int64\n",
      "0    1\n",
      "dtype: int64\n",
      "14    2\n",
      "dtype: int64\n",
      "33    0\n",
      "dtype: int64\n",
      "2    2\n",
      "dtype: int64\n",
      "10    2\n",
      "dtype: int64\n",
      "9    2\n",
      "dtype: int64\n",
      "22    2\n",
      "dtype: int64\n"
     ]
    }
   ],
   "source": [
    "for i in winners_ids: \n",
    "    print(labels[i])"
   ]
  },
  {
   "cell_type": "markdown",
   "metadata": {},
   "source": [
    "My groups seem to jump around a lot everytime I run the algorithm. A few of things could be happening: My code not be working they way I think  it is, the Cy Young is not based on objective data, or k-means is not a good usecase for this question. "
   ]
  },
  {
   "cell_type": "code",
   "execution_count": null,
   "metadata": {},
   "outputs": [],
   "source": []
  }
 ],
 "metadata": {
  "kernelspec": {
   "display_name": "venv",
   "language": "python",
   "name": "python3"
  },
  "language_info": {
   "codemirror_mode": {
    "name": "ipython",
    "version": 3
   },
   "file_extension": ".py",
   "mimetype": "text/x-python",
   "name": "python",
   "nbconvert_exporter": "python",
   "pygments_lexer": "ipython3",
   "version": "3.11.3"
  }
 },
 "nbformat": 4,
 "nbformat_minor": 2
}
